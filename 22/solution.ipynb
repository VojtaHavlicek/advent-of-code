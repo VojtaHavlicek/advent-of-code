{
 "cells": [
  {
   "cell_type": "markdown",
   "metadata": {},
   "source": [
    "# 22"
   ]
  },
  {
   "cell_type": "code",
   "execution_count": null,
   "metadata": {},
   "outputs": [],
   "source": [
    "secret_number = 123"
   ]
  },
  {
   "cell_type": "code",
   "execution_count": 17,
   "metadata": {},
   "outputs": [],
   "source": [
    "def process_round(secret_number):\n",
    "    number = secret_number*64  \n",
    "    secret_number = secret_number^number\n",
    "    secret_number = secret_number % 16777216\n",
    "    #print(secret_number)\n",
    "\n",
    "    number = secret_number//32\n",
    "    secret_number = secret_number^number\n",
    "    secret_number = secret_number % 16777216\n",
    "    #print(secret_number)\n",
    "\n",
    "    number = secret_number*2048\n",
    "    secret_number = secret_number^number\n",
    "    secret_number = secret_number % 16777216\n",
    "\n",
    "    return secret_number\n"
   ]
  },
  {
   "cell_type": "code",
   "execution_count": 27,
   "metadata": {},
   "outputs": [],
   "source": [
    "secret_number = 123 \n",
    "for _ in range(10):\n",
    "    secret_number = process_round(secret_number)"
   ]
  },
  {
   "cell_type": "code",
   "execution_count": 23,
   "metadata": {},
   "outputs": [
    {
     "data": {
      "text/plain": [
       "37327623"
      ]
     },
     "execution_count": 23,
     "metadata": {},
     "output_type": "execute_result"
    }
   ],
   "source": [
    "secret_numbers = [1,10,100,2024]\n",
    "\n",
    "result = 0 \n",
    "\n",
    "for secret_number in secret_numbers:\n",
    "    for _ in range(2000):\n",
    "        secret_number = process_round(secret_number)\n",
    "\n",
    "    result += secret_number\n",
    "\n",
    "result"
   ]
  },
  {
   "cell_type": "code",
   "execution_count": 58,
   "metadata": {},
   "outputs": [],
   "source": [
    "secret_numbers = [] \n",
    "with open(\"input.txt\", \"r\") as file:\n",
    "    for line in file:\n",
    "        secret_numbers.append(int(line.strip()))\n",
    "       "
   ]
  },
  {
   "cell_type": "code",
   "execution_count": 25,
   "metadata": {},
   "outputs": [],
   "source": [
    "result = 0 \n",
    "for secret_number in secret_numbers:\n",
    "    for _ in range(2000):\n",
    "        secret_number = process_round(secret_number)\n",
    "\n",
    "    result += secret_number\n",
    "\n",
    "result"
   ]
  },
  {
   "cell_type": "markdown",
   "metadata": {},
   "source": [
    "Too high: 14437425695"
   ]
  },
  {
   "cell_type": "markdown",
   "metadata": {},
   "source": [
    "# Part 2"
   ]
  },
  {
   "cell_type": "code",
   "execution_count": 61,
   "metadata": {},
   "outputs": [],
   "source": [
    "# secret_numbers = [1,2,3,2024]\n",
    "\n",
    "\n",
    "result = 0\n",
    "\n",
    "memos = [] \n",
    "\n",
    "for init_secret_number in secret_numbers:\n",
    "    last_four = [] \n",
    "    memo = dict()\n",
    "\n",
    "    secret_number = init_secret_number\n",
    "    \n",
    "    for _ in range(2000):\n",
    "        \n",
    "        number = process_round(secret_number)\n",
    "        diff = (number % 10 - secret_number % 10)\n",
    "        \n",
    "        last_four.append(diff)\n",
    "        if len(last_four) > 4:\n",
    "            last_four.pop(0)\n",
    "\n",
    "            last_four_tuple = tuple(last_four)\n",
    "            \n",
    "            # ----------------\n",
    "            if last_four_tuple not in memo: \n",
    "                memo[last_four_tuple] = number % 10\n",
    "\n",
    "        #print(f\"Secret: {number % 10} ({diff})\")\n",
    "        secret_number = number\n",
    "    \n",
    "    memos.append(memo)\n",
    "\n",
    "    result += secret_number\n",
    "\n"
   ]
  },
  {
   "cell_type": "code",
   "execution_count": 68,
   "metadata": {},
   "outputs": [],
   "source": [
    "total_memo = dict()\n",
    "\n",
    "for memo in memos: \n",
    "    for key in memo:\n",
    "        if key not in total_memo:\n",
    "            total_memo[key] = memo[key]\n",
    "        else:\n",
    "            total_memo[key] += memo[key]"
   ]
  },
  {
   "cell_type": "code",
   "execution_count": 71,
   "metadata": {},
   "outputs": [
    {
     "data": {
      "text/plain": [
       "1628"
      ]
     },
     "execution_count": 71,
     "metadata": {},
     "output_type": "execute_result"
    }
   ],
   "source": [
    "max(total_memo.values()) # wow, ok.... I think I 64GB of RAM paid off :)"
   ]
  }
 ],
 "metadata": {
  "kernelspec": {
   "display_name": "Python 3",
   "language": "python",
   "name": "python3"
  },
  "language_info": {
   "codemirror_mode": {
    "name": "ipython",
    "version": 3
   },
   "file_extension": ".py",
   "mimetype": "text/x-python",
   "name": "python",
   "nbconvert_exporter": "python",
   "pygments_lexer": "ipython3",
   "version": "3.11.6"
  }
 },
 "nbformat": 4,
 "nbformat_minor": 2
}
