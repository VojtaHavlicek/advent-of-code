{
 "cells": [
  {
   "cell_type": "markdown",
   "metadata": {},
   "source": [
    "# 19 "
   ]
  },
  {
   "cell_type": "code",
   "execution_count": 220,
   "metadata": {},
   "outputs": [],
   "source": [
    "patterns = []\n",
    "designs = []\n",
    "\n",
    "with open(\"input.txt\", \"r\") as file: \n",
    "    for id, line in enumerate(file):\n",
    "        if id == 0: \n",
    "            patterns = [pattern.strip() for pattern in line.strip().split(\",\")]\n",
    "\n",
    "        else: \n",
    "            if line.strip() == \"\": \n",
    "                continue\n",
    "\n",
    "            designs.append(line.strip())"
   ]
  },
  {
   "cell_type": "markdown",
   "metadata": {},
   "source": [
    "First, I implemented a silly solution (below) but then got another idea: look for an inteval \"cover\" of the string, then turn that into a graph and check if there is a path from start to finish.\n",
    "\n",
    "This can be done \"dynamically\" while building the cover. "
   ]
  },
  {
   "cell_type": "code",
   "execution_count": 221,
   "metadata": {},
   "outputs": [],
   "source": [
    "import re \n",
    "\n",
    "def design_cover(design, patterns):\n",
    "    \"\"\"\n",
    "    Gets all intervals that are covered by the patterns in the design. \n",
    "    \"\"\"\n",
    "    intervals = []\n",
    "    for pattern in patterns: \n",
    "        regex = re.compile(pattern)\n",
    "        for pattern_match in re.finditer(regex, design):\n",
    "            intervals.append((pattern_match.start(), pattern_match.end()))\n",
    "    return intervals"
   ]
  },
  {
   "cell_type": "code",
   "execution_count": 222,
   "metadata": {},
   "outputs": [],
   "source": [
    "def is_covered(design, patterns):\n",
    "    \"\"\" \n",
    "    Checks if the design is covered by the patterns.\n",
    "    \"\"\"\n",
    "\n",
    "    # Get a list of intervals over the design \n",
    "    edges = design_cover(design, patterns)\n",
    "\n",
    "    # Remove multiedges\n",
    "    edges =  set(edges)\n",
    "\n",
    "    # Create a graph from the intervals\n",
    "    adjacency = dict()  # out edges\n",
    "\n",
    "    for edge in edges: \n",
    "        if edge[0] not in adjacency:\n",
    "            adjacency[edge[0]] = [edge[1]]\n",
    "        else:\n",
    "            adjacency[edge[0]].append(edge[1])\n",
    "            \n",
    "    # All of this is fast! \n",
    "\n",
    "    # DFS \n",
    "    stack = [0]\n",
    "    discovered = set()\n",
    "\n",
    "    while len(stack) > 0:\n",
    "        current = stack.pop()\n",
    "\n",
    "        if current == len(design): \n",
    "            return True\n",
    "\n",
    "        if current in discovered: \n",
    "            continue\n",
    "        else:\n",
    "            discovered.add(current)\n",
    "\n",
    "            if current in adjacency:\n",
    "                stack.extend(adjacency[current])\n",
    "\n",
    "    return False\n",
    "\n",
    "\n"
   ]
  },
  {
   "cell_type": "code",
   "execution_count": null,
   "metadata": {},
   "outputs": [
    {
     "name": "stdout",
     "output_type": "stream",
     "text": [
      "wuurugububruuwuggwuuwgbwwbrbwgrrrubwbuuwu\n",
      "wwgwuurrurrbbgwuwwbgrbbrbruugwwgugbrbrgguuwrugwuguurbgwrru\n",
      "wuugguggwrrgruwgbbrrgbwbruubgrbbrburgugurgwggwgggrrur\n",
      "wuugrbbwuguwuwwuuruwrwbgurrbbwbwwrwuugbwgbuugbgwwrwwwgw\n",
      "wuugrubwgggbugrbwgwgurgwuubuubrbrrbbruwbwrwgguwrrrwbwgbbw\n",
      "wuugwgbwrrgugguwwgbwgbbwgbbgbgwuugbbuuwgrburuuurwbggwgrugu\n",
      "wuugrbubwrbrgwubrggugwbrgbggbbgwurrwgwrwu\n",
      "wuuurrguggwugbggggwbwbrrwurrbgwgwgbuwubgwubuuwbugwbwbwwwrguw\n",
      "wuuurrbwrgwrguuwgrrgbuwggrbbwbuwbgugrwubwugwbrbg\n",
      "wuugbbbwuuguuwgrrwrwgwwwwwrbwgwrbwguwbrbgugubr\n",
      "wuuuurwgrwggwrruuuwubwubggrbrbwgbrwbgbwwurgbrwu\n",
      "wuurggrwwbgwuwwrburuwrwrruruubgggbrugwwrwgbuwrbwgbur\n",
      "wurwwgwuurbwwgrrbbubbbbgugwwurrggrurbwrbuurbbbb\n",
      "wuugbgbbwuubbbrrgbgubbgrrrbrgugrbwguuwgburrwrguuwgrbg\n",
      "wuurugrubwrrbbrbbwbubbgburrrbugwuwwrgrrrwwbwg\n",
      "wuurrrwburwbbugubwwrgruwrrbgrwrrwwbwbbrruggbwuug\n",
      "wuurbbrgubwrgurrugbwubbrbubruwbugrrbrwuwbbbbbbbwuwuw\n",
      "wuuuugrgugugguwwrgurwurbbbrwbwwrgwuuwubgwru\n",
      "wuugrwrwwrwbbgwgugugurrwbbwwwwugwwbuuurbwgwrbbggugwwwwbgur\n",
      "wuurbbwggrbbgwrgurbwwbuwggrurgrwrbwbrrbwbugubw\n",
      "wuugrbgguuuuubruurgbrbrbubuuwwguwguwurrbbgruubburwwbbrb\n",
      "wuugwwuubrwrubrbgbrwururuuburwggrurrgbwubwuggubbwbruuuwrwg\n",
      "wwgwuurbburbwbwwwugrbwggugrrwgwugbugubububuurur\n",
      "wuuuwrgbwruwwurrrgwwrgugwwbubgbbgbggrbrgg\n",
      "wuuuwwgrgurbgbwbwbgrrugbrwggrbrrubgwurwurgrbbrbu\n",
      "wuugwbwgwwubwuuuwuwgwurburggbwwbrwwrwguuruwubwbguuwgw\n",
      "wuugrbgwwwgburbwrwgugrrgbbbgrgbrwwrgurrbbwbwuugugrgbubbrrrrg\n",
      "wuuruwgubbwuugbbburrugbggwwuruuuubbgruwbrr\n",
      "wuugbbuguruwugwrgwbbuggbwbwwbbuwwuuugwbguwugbwggrbrr\n",
      "371\n"
     ]
    }
   ],
   "source": [
    "# This seems too low. \n",
    "result = 0\n",
    "\n",
    "for design in designs: \n",
    "\n",
    "    #if not is_covered(design, patterns):\n",
    "    #    print(design)\n",
    "        \n",
    "    result += is_covered(design, patterns)\n",
    "\n",
    "print(result)"
   ]
  },
  {
   "cell_type": "code",
   "execution_count": 211,
   "metadata": {},
   "outputs": [
    {
     "data": {
      "text/plain": [
       "False"
      ]
     },
     "execution_count": 211,
     "metadata": {},
     "output_type": "execute_result"
    }
   ],
   "source": [
    "is_covered(\"bggr\", patterns)"
   ]
  },
  {
   "cell_type": "code",
   "execution_count": null,
   "metadata": {},
   "outputs": [],
   "source": [
    "# Silly solution first \n",
    "# for design in designs:\n",
    "import re\n",
    "\n",
    "def can_compose_design(design, patterns, steps = 10):\n",
    "\n",
    "    regexes = {pattern:re.compile(pattern) for pattern in patterns}\n",
    "    design_stubs = [design]\n",
    "\n",
    "\n",
    "    # -----------------\n",
    "    while len(design_stubs) > 0 and steps > 0: \n",
    "        print(design_stubs)\n",
    "        design_stub = design_stubs.pop(0)\n",
    "        # ------------- BFS \n",
    "        for pattern in patterns: \n",
    "            for pattern_match in re.finditer(regexes[pattern], design_stub):\n",
    "\n",
    "                # Only store the interval that has been matched? \n",
    "                # For now, there is a an overcounting because the substrings \n",
    "                # are removed in a fixed order. \n",
    "                new_stub = design_stub[:pattern_match.start()] + design_stub[pattern_match.end():]\n",
    "                if new_stub == \"\":\n",
    "                    # print(\"Found a match: \", design_stub)\n",
    "                    return True\n",
    "                design_stubs.append(new_stub)\n",
    "\n",
    "        steps -= 1\n",
    "\n",
    "    return False\n",
    "\n",
    "# Way too slow"
   ]
  }
 ],
 "metadata": {
  "kernelspec": {
   "display_name": "Python 3",
   "language": "python",
   "name": "python3"
  },
  "language_info": {
   "codemirror_mode": {
    "name": "ipython",
    "version": 3
   },
   "file_extension": ".py",
   "mimetype": "text/x-python",
   "name": "python",
   "nbconvert_exporter": "python",
   "pygments_lexer": "ipython3",
   "version": "3.11.6"
  }
 },
 "nbformat": 4,
 "nbformat_minor": 2
}
