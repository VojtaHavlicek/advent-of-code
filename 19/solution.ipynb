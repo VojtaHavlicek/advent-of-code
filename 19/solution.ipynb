{
 "cells": [
  {
   "cell_type": "markdown",
   "metadata": {},
   "source": [
    "# 19 "
   ]
  },
  {
   "cell_type": "code",
   "execution_count": 559,
   "metadata": {},
   "outputs": [],
   "source": [
    "patterns = []\n",
    "designs = []\n",
    "\n",
    "with open(\"input.txt\", \"r\", encoding=\"utf-8\") as file: \n",
    "    for id, line in enumerate(file):\n",
    "        if id == 0: \n",
    "            patterns = [pattern.strip() for pattern in line.strip().split(\",\")]\n",
    "        else: \n",
    "            if line.strip() == \"\": \n",
    "                continue\n",
    "\n",
    "            designs.append(line.strip())"
   ]
  },
  {
   "cell_type": "code",
   "execution_count": 513,
   "metadata": {},
   "outputs": [
    {
     "name": "stdout",
     "output_type": "stream",
     "text": [
      "['rrgbg', 'rgguubg', 'rbru', 'rb', 'rrrw', 'wbu', 'gbgb', 'uururg', 'ubru', 'rugb', 'bbru', 'b', 'rggurg', 'wgru', 'bgrwb', 'rrgubg', 'ubrrbg', 'wgurru', 'rrrrw', 'rbrwu', 'wubwb', 'wrbbr', 'bgbu', 'brrww', 'brg', 'gbwu', 'wrubuur', 'gur', 'grbr', 'gruwrrbg', 'bgwr', 'wgugbgb', 'rwbru', 'wuwr', 'rrg', 'ruwg', 'rgwgr', 'ubu', 'wbr', 'bwg', 'gbu', 'bgrwrb', 'wwrw', 'bb', 'gr', 'rug', 'grr', 'ubwb', 'rbruwbu', 'guggug', 'ugu', 'rwbuu', 'bbur', 'wbrww', 'wubw', 'br', 'gruu', 'gwr', 'wrrwwu', 'wug', 'bgu', 'bgb', 'wugb', 'grb', 'rbbg', 'grgbwgb', 'rwu', 'bwrbb', 'uwrbbru', 'bbu', 'wrg', 'rwg', 'ggbgbg', 'wbwru', 'wrgrw', 'bburr', 'bgr', 'rgbg', 'bwwwugrb', 'uwu', 'rwuwrg', 'gguburu', 'uwubwu', 'wb', 'wgguug', 'ugrbw', 'rbgu', 'rwwu', 'ggbbgb', 'gw', 'wgg', 'rrw', 'uurg', 'uubg', 'bgurgb', 'uwgbr', 'wbrwu', 'rrbb', 'rww', 'bwgb', 'uugru', 'ggrbub', 'wubgw', 'rwwugr', 'uuwur', 'burbrg', 'bbr', 'ggb', 'wgr', 'gwbgw', 'rrbu', 'wuwwrwb', 'rbbr', 'uubw', 'buuu', 'ubbwggu', 'brr', 'urguww', 'uggwwgw', 'ugw', 'ug', 'rub', 'grrrwu', 'wurburgg', 'wwww', 'ruu', 'wrb', 'rrur', 'urggr', 'bwbwwwrg', 'wwbu', 'bbg', 'uwb', 'ggugu', 'gbbr', 'rbrgw', 'bg', 'bbuu', 'uwrgrg', 'ggbwrgw', 'wwgwugr', 'wgbwuwb', 'gbrwg', 'bbw', 'wwrgu', 'rgrwrbwb', 'wwwg', 'gugbgbg', 'bwrwub', 'rw', 'gbb', 'ggw', 'rrb', 'urrbbwb', 'urbu', 'grg', 'rbugggb', 'bruwg', 'uubgwgw', 'bw', 'uubgu', 'rru', 'rwww', 'gu', 'wrbrg', 'guu', 'wgu', 'ruuru', 'wubrrg', 'brugrg', 'uuggb', 'wrurg', 'rgb', 'rbu', 'urg', 'buw', 'grwbg', 'gwuw', 'grbbg', 'wuwu', 'gbgbbw', 'uugrwrww', 'wbguub', 'grrgbug', 'u', 'uug', 'uwr', 'wrwb', 'gbg', 'bru', 'wwg', 'bbwur', 'bbbbbbbw', 'bugbb', 'rwurrgr', 'wwb', 'ugbbw', 'bug', 'grgg', 'bgwgrrb', 'uggu', 'rurguru', 'wwr', 'rbw', 'ubwwgw', 'wrrw', 'rrbg', 'g', 'rgrbub', 'gruggw', 'bur', 'ubgb', 'bgg', 'uwur', 'ur', 'bbbwb', 'gwbu', 'wuww', 'uruuuubb', 'wbru', 'ugggg', 'gbuu', 'rgg', 'wwwug', 'gbrwgg', 'guwgr', 'urw', 'wbur', 'bu', 'rur', 'rrubr', 'ugb', 'ubrgrb', 'rbbgg', 'rbwrg', 'rggw', 'rguug', 'wwu', 'uur', 'wrrguggu', 'brbb', 'bwwwbr', 'guw', 'gugw', 'wgubwu', 'rrr', 'ub', 'ru', 'brrbbruw', 'bwwgrrbb', 'rubgu', 'uggwwg', 'wbb', 'rwr', 'r', 'ruuu', 'wbggg', 'wwwu', 'grbrb', 'rrrrr', 'ruwb', 'wuuw', 'rbbb', 'ugg', 'wbg', 'rguwr', 'wbw', 'wbuwg', 'ubbgrbb', 'urugu', 'rbubw', 'wrgwuuwu', 'grw', 'ubbbu', 'bwurb', 'rwuu', 'rgbbwur', 'urbuu', 'uww', 'wuw', 'bwurgu', 'wur', 'wuwwrbur', 'wwuu', 'wbgw', 'grbbbw', 'wuub', 'urb', 'wuuguuwg', 'wg', 'gwrgr', 'gbug', 'gbrbw', 'rwgg', 'brbbu', 'bwww', 'wrbbbu', 'wwgbggb', 'burug', 'gww', 'ubgrrb', 'bgw', 'rgbb', 'brb', 'wbuu', 'brw', 'ggrbrbwg', 'uwruw', 'wrgurrbb', 'guwrgu', 'rr', 'ugggrbr', 'bgrgg', 'urgbrbrb', 'wrw', 'wwubggu', 'ugurwg', 'grrg', 'bwrb', 'rrgwuuw', 'rrru', 'wurg', 'bgurwu', 'rgurbb', 'uuub', 'uuwb', 'rrrg', 'wrgrrrww', 'uwg', 'bgbguu', 'wrgwb', 'wwwru', 'rg', 'rrurwur', 'urrbb', 'bww', 'rrwwbbb', 'ubr', 'wgrbu', 'gru', 'ubg', 'gb', 'ggr', 'gbwbwru', 'uuw', 'rbb', 'gugwrg', 'gwb', 'bbb', 'rgrggw', 'uw', 'wggbbg', 'rwgubgb', 'gwbw', 'brrr', 'gugbwu', 'rwrr', 'uuuwbb', 'ugrrr', 'rgu', 'wubrwr', 'wrr', 'bwb', 'bwbgurb', 'rrrub', 'wub', 'rwgrug', 'rurb', 'gwrgrbr', 'rbrwbb', 'wwrgbg', 'urr', 'bwu', 'bwgu', 'rbuuw', 'bbub', 'wbbwubu', 'ggg', 'wbwwgwb', 'buwbg', 'wwwuru', 'rbg', 'gubugg', 'gbwb', 'www', 'rbr', 'ubur', 'grbbw', 'wgw', 'gbw', 'wgrw', 'rguuuu', 'rwb', 'gbrw', 'bbbb', 'gururbb', 'rbggwu', 'bub', 'bgbr', 'gurb', 'rrbgrb', 'rurwb', 'ugr', 'wgwrg', 'ruw', 'bgrr', 'gwu', 'gbr', 'uwugwru', 'wru', 'wr', 'ugbruw', 'grbubb', 'gwg', 'gwggurg', 'gugbr', 'ugubbgb', 'uwrw', 'uru', 'bwr', 'rgr', 'rbgrwg', 'buuw', 'ugbur', 'urgub', 'wurrrgww', 'rgguuwru', 'burr', 'rgw', 'rbruw', 'rwbwbbr', 'bwguw', 'uub', 'wgb', 'rgur', 'ubb', 'urwg', 'rwgww', 'wgub', 'rwwrgu', 'gg', 'rgug', 'gub', 'bggr', 'uuu', 'uu', 'rbug']\n"
     ]
    }
   ],
   "source": [
    "print(patterns)"
   ]
  },
  {
   "cell_type": "markdown",
   "metadata": {},
   "source": [
    "First, I implemented a silly solution (below) but then got another idea: look for an inteval \"cover\" of the string, then turn that into a graph and check if there is a path from start to finish.\n",
    "\n",
    "This can be done \"dynamically\" while building the cover. "
   ]
  },
  {
   "cell_type": "code",
   "execution_count": 514,
   "metadata": {},
   "outputs": [],
   "source": [
    "import re \n",
    "\n",
    "def design_cover(design, patterns):\n",
    "    \"\"\"\n",
    "    Gets all intervals that are covered by the patterns in the design. \n",
    "    \"\"\"\n",
    "    intervals = []\n",
    "    for pattern in patterns: \n",
    "        regex = re.compile(pattern)\n",
    "        for pattern_match in re.finditer(regex, design):\n",
    "            intervals.append((pattern_match.start(), pattern_match.end()))\n",
    "    return intervals"
   ]
  },
  {
   "cell_type": "code",
   "execution_count": 515,
   "metadata": {},
   "outputs": [
    {
     "name": "stdout",
     "output_type": "stream",
     "text": [
      "371\n"
     ]
    }
   ],
   "source": [
    "def is_covered(design, patterns):\n",
    "    \"\"\" \n",
    "    Checks if the design is covered by the patterns.\n",
    "    \"\"\"\n",
    "\n",
    "    # Get a list of intervals over the design \n",
    "    edges = design_cover(design, patterns)\n",
    "\n",
    "    # Create a graph from the intervals\n",
    "    adjacency = dict()  # out edges\n",
    "\n",
    "    for edge in edges: \n",
    "        if edge[0] not in adjacency:\n",
    "            adjacency[edge[0]] = [edge[1]]\n",
    "        else:\n",
    "            adjacency[edge[0]].append(edge[1])\n",
    "            \n",
    "    # All of this is fast! \n",
    "\n",
    "    # DFS \n",
    "    stack = [0]\n",
    "    discovered = set()\n",
    "\n",
    "    while len(stack) > 0:\n",
    "        current = stack.pop()\n",
    "\n",
    "        if current == len(design): \n",
    "            return True\n",
    "\n",
    "        if current in discovered: \n",
    "            continue\n",
    "        else:\n",
    "            discovered.add(current)\n",
    "\n",
    "            if current in adjacency:\n",
    "                stack.extend(adjacency[current])\n",
    "\n",
    "    return False\n",
    "\n",
    "\n",
    "result = 0\n",
    "\n",
    "for design in designs: \n",
    "    result += is_covered(design, patterns)\n",
    "\n",
    "print(result)"
   ]
  },
  {
   "cell_type": "code",
   "execution_count": 516,
   "metadata": {},
   "outputs": [
    {
     "data": {
      "text/plain": [
       "371"
      ]
     },
     "execution_count": 516,
     "metadata": {},
     "output_type": "execute_result"
    }
   ],
   "source": [
    "# Another solution, a bit more straightforward.\n",
    "def find_path(patterns, design): \n",
    "    if len(design) == 0: \n",
    "        return True\n",
    "    for pattern in patterns: \n",
    "        if design.startswith(pattern):\n",
    "            if find_path(patterns, design[len(pattern):]):\n",
    "                return True\n",
    "    return False\n",
    "\n",
    "result = 0\n",
    "for design in designs:\n",
    "    if find_path(patterns, design):\n",
    "        result += 1\n",
    "\n",
    "result"
   ]
  },
  {
   "cell_type": "markdown",
   "metadata": {},
   "source": [
    "Dynamic programming? "
   ]
  },
  {
   "cell_type": "markdown",
   "metadata": {},
   "source": [
    "# Part 2\n",
    "\n",
    "Count the number of all paths by traversing from end to start? \n",
    "\n",
    "I thought that this could be done by removing the discovery check in DFS, but ufff.... "
   ]
  },
  {
   "cell_type": "markdown",
   "metadata": {},
   "source": [
    "TODO: finish the path counting... the adjacency mtx somehow doesn't work and I suspect I have a mistake in the way I build the regex somehow :("
   ]
  },
  {
   "cell_type": "code",
   "execution_count": 497,
   "metadata": {},
   "outputs": [],
   "source": [
    "import numpy as np"
   ]
  },
  {
   "cell_type": "code",
   "execution_count": 500,
   "metadata": {},
   "outputs": [],
   "source": [
    "def num_designs(designs, patterns):\n",
    "    res = 0\n",
    "    for design in designs:\n",
    "        edges = design_cover(design, patterns)\n",
    "\n",
    "        #print(edges)\n",
    "\n",
    "        # Adjacency matrix \n",
    "        matrix = np.zeros((len(design)+1, len(design)+1))\n",
    "        for node, out in edges:\n",
    "            matrix[node, out] += 1\n",
    "\n",
    "        init_vector = np.zeros((len(design)+1))\n",
    "        init_vector[0] = 1\n",
    "\n",
    "        m = matrix.copy().T\n",
    "        for _ in range(len(design)+10):\n",
    "            res += init_vector[-1]\n",
    "            init_vector = m @ init_vector\n",
    "        \n",
    "    return int(res)"
   ]
  },
  {
   "cell_type": "markdown",
   "metadata": {},
   "source": [
    "Wrong answer (too low): 430126150705147. I still wonder why is this wrong though :( "
   ]
  },
  {
   "cell_type": "code",
   "execution_count": 446,
   "metadata": {},
   "outputs": [
    {
     "data": {
      "text/plain": [
       "True"
      ]
     },
     "execution_count": 446,
     "metadata": {},
     "output_type": "execute_result"
    }
   ],
   "source": [
    "430126150705147 == 430126150705147.0"
   ]
  },
  {
   "cell_type": "code",
   "execution_count": 562,
   "metadata": {},
   "outputs": [
    {
     "data": {
      "text/plain": [
       "650354687260341"
      ]
     },
     "execution_count": 562,
     "metadata": {},
     "output_type": "execute_result"
    }
   ],
   "source": [
    "memo = {}\n",
    "\n",
    "def count_paths(patterns, design, memo): \n",
    "    if design in memo: return memo[design] \n",
    "    if len(design) == 0: return memo.get(design, 1) # This was the issue! \n",
    "    for pattern in patterns: \n",
    "        if design.startswith(pattern):\n",
    "            memo[design] = memo.get(design,0) + count_paths(patterns, design[len(pattern):], memo)\n",
    "    return memo.get(design, 0)\n",
    "\n",
    "result = 0\n",
    "for design in designs:\n",
    "    result += count_paths(patterns, design, memo)\n",
    "\n",
    "result"
   ]
  },
  {
   "cell_type": "code",
   "execution_count": 563,
   "metadata": {},
   "outputs": [],
   "source": [
    "from functools import cache"
   ]
  },
  {
   "cell_type": "code",
   "execution_count": null,
   "metadata": {},
   "outputs": [],
   "source": []
  }
 ],
 "metadata": {
  "kernelspec": {
   "display_name": "Python 3",
   "language": "python",
   "name": "python3"
  },
  "language_info": {
   "codemirror_mode": {
    "name": "ipython",
    "version": 3
   },
   "file_extension": ".py",
   "mimetype": "text/x-python",
   "name": "python",
   "nbconvert_exporter": "python",
   "pygments_lexer": "ipython3",
   "version": "3.11.6"
  }
 },
 "nbformat": 4,
 "nbformat_minor": 2
}
