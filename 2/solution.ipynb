{
 "cells": [
  {
   "cell_type": "markdown",
   "metadata": {
    "vscode": {
     "languageId": "plaintext"
    }
   },
   "source": [
    "# Day 2 "
   ]
  },
  {
   "cell_type": "markdown",
   "metadata": {},
   "source": [
    "## Part 1"
   ]
  },
  {
   "cell_type": "code",
   "execution_count": 9,
   "metadata": {},
   "outputs": [
    {
     "name": "stdout",
     "output_type": "stream",
     "text": [
      "591\n"
     ]
    }
   ],
   "source": [
    "num_safe = 0\n",
    "\n",
    "with open(\"input.txt\", \"r\") as file: \n",
    "    for line in file: \n",
    "        arr = [int(n) for n in line.split()]\n",
    "\n",
    "        if arr == sorted(arr) or arr == sorted(arr, reverse=True):\n",
    "            for i in range(len(arr) - 1):\n",
    "                if abs(arr[i] - arr[i + 1]) == 0 or abs(arr[i] - arr[i+1]) > 3:\n",
    "                    break\n",
    "            else:\n",
    "                num_safe += 1\n",
    "\n",
    "print(num_safe)"
   ]
  },
  {
   "cell_type": "markdown",
   "metadata": {},
   "source": [
    "## Part 2"
   ]
  },
  {
   "cell_type": "code",
   "execution_count": 12,
   "metadata": {},
   "outputs": [
    {
     "name": "stdout",
     "output_type": "stream",
     "text": [
      "621\n"
     ]
    }
   ],
   "source": [
    "num_safe = 0\n",
    "\n",
    "with open(\"input.txt\", \"r\") as file: \n",
    "    for line in file: \n",
    "        arr = [int(n) for n in line.split()]\n",
    "        is_safe = False \n",
    "\n",
    "        # Remove element at a given index and checks for safety\n",
    "        for r in range(len(arr) + 1): \n",
    "            if r != len(arr):\n",
    "                narr = arr[:r] + arr[r+1:]\n",
    "            else: \n",
    "                narr = arr\n",
    "            \n",
    "            if narr == sorted(narr) or narr == sorted(narr, reverse=True):\n",
    "                for i in range(len(narr) - 1):\n",
    "                    if abs(narr[i] - narr[i + 1]) == 0 or abs(narr[i] - narr[i+1]) > 3:\n",
    "                        break\n",
    "                else:\n",
    "                    is_safe = True\n",
    "                    break\n",
    "\n",
    "        if is_safe: \n",
    "            num_safe += 1\n",
    "        \n",
    "\n",
    "print(num_safe)"
   ]
  },
  {
   "cell_type": "code",
   "execution_count": null,
   "metadata": {},
   "outputs": [],
   "source": []
  }
 ],
 "metadata": {
  "kernelspec": {
   "display_name": "Python 3",
   "language": "python",
   "name": "python3"
  },
  "language_info": {
   "codemirror_mode": {
    "name": "ipython",
    "version": 3
   },
   "file_extension": ".py",
   "mimetype": "text/x-python",
   "name": "python",
   "nbconvert_exporter": "python",
   "pygments_lexer": "ipython3",
   "version": "3.11.6"
  }
 },
 "nbformat": 4,
 "nbformat_minor": 2
}
