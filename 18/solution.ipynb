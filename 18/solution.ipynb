{
 "cells": [
  {
   "cell_type": "markdown",
   "metadata": {},
   "source": [
    "# 18 "
   ]
  },
  {
   "cell_type": "code",
   "execution_count": 148,
   "metadata": {},
   "outputs": [],
   "source": [
    "bytes = []\n",
    "\n",
    "with open(\"input.txt\", \"r\") as file: \n",
    "    for line in file:\n",
    "        bytes.append([int(a) for a in line.strip().split(',')])\n",
    "\n",
    "bytes; "
   ]
  },
  {
   "cell_type": "code",
   "execution_count": 149,
   "metadata": {},
   "outputs": [],
   "source": [
    "N = 71\n",
    "\n",
    "start = (0,0)\n",
    "end = (N-1,N-1)\n",
    "\n",
    "array = [['.' for _ in range(N)] for _ in range(N)]\n",
    "\n",
    "for byte in bytes[:1024]: \n",
    "    array[byte[1]][byte[0]] = '#'\n",
    "\n",
    "array;"
   ]
  },
  {
   "cell_type": "code",
   "execution_count": 150,
   "metadata": {},
   "outputs": [],
   "source": [
    "import matplotlib.pyplot as plt\n",
    "\n",
    "print_array = [[0 for _ in range(N)] for _ in range(N)]\n",
    "for row in range(N):\n",
    "    for col in range(N):\n",
    "        if array[row][col] == \"#\":\n",
    "            print_array[row][col] = 1 "
   ]
  },
  {
   "cell_type": "code",
   "execution_count": 151,
   "metadata": {},
   "outputs": [
    {
     "data": {
      "text/plain": [
       "(-0.5, 70.5, 70.5, -0.5)"
      ]
     },
     "execution_count": 151,
     "metadata": {},
     "output_type": "execute_result"
    },
    {
     "data": {
      "image/png": "[encoded data removed]",
      "text/plain": [
       "<Figure size 640x480 with 1 Axes>"
      ]
     },
     "metadata": {},
     "output_type": "display_data"
    }
   ],
   "source": [
    "plt.imshow(print_array)\n",
    "plt.axis(\"off\") # Is it really so that BFS fails on such a small number of nodes? "
   ]
  },
  {
   "cell_type": "code",
   "execution_count": 152,
   "metadata": {},
   "outputs": [],
   "source": [
    "from heapq import heappush, heappop\n",
    "\n",
    "# Run Dijkstra from both sides?  \n",
    "\n",
    "def dijkstra(array, steps = -1): \n",
    "    # Use heap for this as (score, node) pairs. \n",
    "    start = (0, 0)\n",
    "    current = [(0, start)] \n",
    "\n",
    "    MAX_DISTANCE = len(array) * len(array[0]) + 1\n",
    "\n",
    "    # Store the distances here. \n",
    "    distances = [[MAX_DISTANCE for _ in range(len(array[0]))] for _ in range(len(array))]\n",
    "    distances[start[0]][start[1]] = 0\n",
    "\n",
    "    # Dijsktras algorithm.\n",
    "    while len(current) > 0 and steps != 0: \n",
    "        distance, node = heappop(current)\n",
    "\n",
    "        if node == (len(array) - 1, len(array[0]) - 1):\n",
    "            break # BREAK EARLY\n",
    "\n",
    "\n",
    "        # Insert new neighbor\n",
    "        neighbors = [(node[0] + 1, node[1]), \n",
    "                    (node[0] - 1, node[1]), \n",
    "                    (node[0], node[1] + 1), \n",
    "                    (node[0], node[1] - 1)] # R -> rotat\n",
    "        \n",
    "        for neighbor in neighbors:\n",
    "\n",
    "            # Out of bounds\n",
    "            if neighbor[0] < 0 or neighbor[0] >= len(array) or neighbor[1] < 0 or neighbor[1] >= len(array[0]):\n",
    "                continue\n",
    "\n",
    "            # Wall\n",
    "            if array[neighbor[0]][neighbor[1]] == \"#\":\n",
    "                continue\n",
    "\n",
    "            cost = 1\n",
    "        \n",
    "            # Add new path\n",
    "            if distance + cost < distances[neighbor[0]][neighbor[1]]:\n",
    "                distances[neighbor[0]][neighbor[1]] = distance + cost\n",
    "                heappush(current, (distance + cost, neighbor))\n",
    "\n",
    "        # Limit execution\n",
    "        if steps != -1: \n",
    "            steps -= 1\n",
    "\n",
    "    # for printing\n",
    "    for row in range(len(array)):\n",
    "        for col in range(len(array[0])):\n",
    "            if distances[row][col] == MAX_DISTANCE:\n",
    "                distances[row][col] = -1\n",
    "    return distances"
   ]
  },
  {
   "cell_type": "code",
   "execution_count": 153,
   "metadata": {},
   "outputs": [
    {
     "data": {
      "text/plain": [
       "(-0.5, 70.5, 70.5, -0.5)"
      ]
     },
     "execution_count": 153,
     "metadata": {},
     "output_type": "execute_result"
    },
    {
     "data": {
      "image/png": "[encoded data removed]",
      "text/plain": [
       "<Figure size 640x480 with 1 Axes>"
      ]
     },
     "metadata": {},
     "output_type": "display_data"
    }
   ],
   "source": [
    "plt.imshow(dijkstra(array, -1))\n",
    "plt.axis(\"off\") # Is it really so that BFS fails on such a small number of nodes?"
   ]
  },
  {
   "cell_type": "markdown",
   "metadata": {},
   "source": [
    "# Part 2: "
   ]
  },
  {
   "cell_type": "code",
   "execution_count": 154,
   "metadata": {},
   "outputs": [],
   "source": [
    "bytes = []\n",
    "\n",
    "with open(\"input.txt\", \"r\") as file: \n",
    "    for line in file:\n",
    "        bytes.append(tuple([int(a) for a in line.strip().split(',')]))\n",
    "\n",
    "bytes;"
   ]
  },
  {
   "cell_type": "code",
   "execution_count": 142,
   "metadata": {},
   "outputs": [],
   "source": [
    "N = 71\n",
    "\n",
    "start = (0,0)\n",
    "end = (N-1,N-1)\n",
    "\n",
    "array = [['.' for _ in range(N)] for _ in range(N)]\n",
    "\n",
    "#for byte in bytes[:20]: \n",
    "#    array[byte[1]][byte[0]] = '#'\n",
    "\n",
    "#array"
   ]
  },
  {
   "cell_type": "code",
   "execution_count": 143,
   "metadata": {},
   "outputs": [],
   "source": [
    "def backtrack(distances): \n",
    "    current = (len(distances) - 1, len(distances[0]) - 1)\n",
    "    path = [current]\n",
    "    while current != (0,0): \n",
    "        neighbors = [(current[0] + 1, current[1]), \n",
    "                    (current[0] - 1, current[1]), \n",
    "                    (current[0], current[1] + 1), \n",
    "                    (current[0], current[1] - 1)] # R -> rotat\n",
    "        \n",
    "        for neighbor in neighbors:\n",
    "            if neighbor[0] < 0 or neighbor[0] >= len(distances) or neighbor[1] < 0 or neighbor[1] >= len(distances[0]):\n",
    "                continue\n",
    "\n",
    "            if distances[neighbor[1]][neighbor[0]] == distances[current[1]][current[0]] - 1:\n",
    "                path.append(neighbor)\n",
    "                current = neighbor\n",
    "                break\n",
    "    return path"
   ]
  },
  {
   "cell_type": "code",
   "execution_count": null,
   "metadata": {},
   "outputs": [
    {
     "name": "stdout",
     "output_type": "stream",
     "text": [
      "Byte in path: (0, 17)\n",
      "Byte in path: (3, 17)\n",
      "Byte in path: (4, 19)\n",
      "Byte in path: (4, 17)\n",
      "Byte in path: (5, 17)\n",
      "Byte in path: (6, 23)\n",
      "Byte in path: (7, 22)\n",
      "Byte in path: (39, 70)\n",
      "Byte in path: (11, 26)\n",
      "Byte in path: (6, 19)\n",
      "Byte in path: (9, 23)\n",
      "Byte in path: (53, 70)\n",
      "Byte in path: (1, 1)\n",
      "Byte in path: (45, 60)\n",
      "Byte in path: (42, 47)\n",
      "Byte in path: (50, 67)\n",
      "Byte in path: (57, 69)\n",
      "Byte in path: (0, 9)\n",
      "Byte in path: (53, 67)\n",
      "Byte in path: (54, 59)\n",
      "Byte in path: (63, 68)\n",
      "Byte in path: (51, 52)\n",
      "Byte in path: (8, 21)\n",
      "Byte in path: (2, 13)\n",
      "Byte in path: (54, 55)\n",
      "Byte in path: (49, 53)\n",
      "Byte in path: (66, 65)\n",
      "Byte in path: (61, 37)\n",
      "Byte in path: (55, 56)\n",
      "Byte in path: (7, 20)\n",
      "Byte in path: (64, 39)\n",
      "Byte in path: (12, 5)\n",
      "Byte in path: (8, 7)\n",
      "Byte in path: (68, 31)\n",
      "Byte in path: (35, 20)\n",
      "Byte in path: (25, 28)\n",
      "Byte in path: (47, 20)\n",
      "Byte in path: (48, 21)\n",
      "Byte in path: (45, 22)\n",
      "Byte in path: (63, 20)\n",
      "Byte in path: (41, 28)\n",
      "Byte in path: (49, 21)\n",
      "Byte in path: (65, 20)\n",
      "Byte in path: (43, 28)\n",
      "Byte in path: (41, 27)\n",
      "Byte in path: (51, 28)\n",
      "Byte in path: (22, 29)\n",
      "Byte in path: (51, 22)\n",
      "Byte in path: (43, 25)\n",
      "Byte in path: (59, 20)\n",
      "Byte in path: (53, 20)\n",
      "Byte in path: (25, 29)\n",
      "Byte in path: (59, 21)\n",
      "Byte in path: (54, 21)\n",
      "Byte in path: (43, 19)\n",
      "Byte in path: (23, 29)\n",
      "Byte in path: (53, 16)\n",
      "Byte in path: (67, 19)\n",
      "Byte in path: (35, 24)\n",
      "Byte in path: (32, 27)\n",
      "Byte in path: (69, 17)\n",
      "Byte in path: (61, 20)\n",
      "Byte in path: (45, 28)\n",
      "Byte in path: (45, 37)\n",
      "Byte in path: (51, 36)\n",
      "Byte in path: (49, 16)\n",
      "Byte in path: (49, 18)\n",
      "Byte in path: (37, 23)\n",
      "Byte in path: (56, 27)\n",
      "No path found at byte: (56, 27)\n"
     ]
    }
   ],
   "source": [
    "array = [['.' for _ in range(N)] for _ in range(N)]\n",
    "path = backtrack(dijkstra(array, -1))\n",
    "\n",
    "# Only recompute the shortest path if the byte is in the latest shortest path.\n",
    "for byte in bytes: \n",
    "    array[byte[1]][byte[0]] = '#'\n",
    "\n",
    "    if byte in path:\n",
    "        print(\"Byte in path:\", byte)\n",
    "        #print(''.join([''.join(line+['\\n']) for line in array]))\n",
    "        distances = dijkstra(array, -1)\n",
    "        if distances[len(array) - 1][len(array[0]) - 1] == -1:\n",
    "            print(\"No path found at byte:\", byte)\n",
    "            break\n",
    "        \n",
    "        path = backtrack(distances)"
   ]
  }
 ],
 "metadata": {
  "kernelspec": {
   "display_name": "Python 3",
   "language": "python",
   "name": "python3"
  },
  "language_info": {
   "codemirror_mode": {
    "name": "ipython",
    "version": 3
   },
   "file_extension": ".py",
   "mimetype": "text/x-python",
   "name": "python",
   "nbconvert_exporter": "python",
   "pygments_lexer": "ipython3",
   "version": "3.11.6"
  }
 },
 "nbformat": 4,
 "nbformat_minor": 2
}
