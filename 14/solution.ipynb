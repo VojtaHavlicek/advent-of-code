{
 "cells": [
  {
   "cell_type": "markdown",
   "metadata": {
    "vscode": {
     "languageId": "plaintext"
    }
   },
   "source": [
    "# 14"
   ]
  },
  {
   "cell_type": "code",
   "execution_count": 53,
   "metadata": {},
   "outputs": [],
   "source": [
    "records = [] \n",
    "\n",
    "with open(\"input.txt\") as f:\n",
    "    for line in f:\n",
    "        line = line.strip().split(' ')\n",
    "\n",
    "        p_entry = line[0]\n",
    "        v_entry = line[1]\n",
    "\n",
    "        p_entry = p_entry.split('=')[1].split(',')\n",
    "        p_entry = (int(p_entry[0]), int(p_entry[1]))\n",
    "\n",
    "        v_entry = v_entry.split('=')[1].split(',')\n",
    "        v_entry = (int(v_entry[0]), int(v_entry[1]))\n",
    "        \n",
    "        records.append({\"p\": p_entry, \"v\":v_entry})\n",
    "\n",
    "# Size of the grid\n",
    "W = 101\n",
    "H = 103"
   ]
  },
  {
   "cell_type": "markdown",
   "metadata": {},
   "source": [
    "Make deepcopy se I don't need to reload"
   ]
  },
  {
   "cell_type": "code",
   "execution_count": 54,
   "metadata": {},
   "outputs": [],
   "source": [
    "from copy import deepcopy\n",
    "\n",
    "positions = deepcopy(records)\n",
    "\n",
    "# Do the 100 iterations\n",
    "for _ in range(100):\n",
    "    for position in positions: \n",
    "        x = (position[\"p\"][0] + position[\"v\"][0]) % W\n",
    "        y = (position[\"p\"][1] + position[\"v\"][1]) % H\n",
    "\n",
    "        position[\"p\"] = (x, y)\n"
   ]
  },
  {
   "cell_type": "code",
   "execution_count": 55,
   "metadata": {},
   "outputs": [],
   "source": [
    "def count_robots_in_quadrants(positions):\n",
    "    quadrant_count  = [0,0,0,0]\n",
    "    for position in positions:\n",
    "        x, y = position[\"p\"]\n",
    "        if x < W//2 and y < H//2:\n",
    "            quadrant_count[0] += 1\n",
    "        elif x > W//2 and y < H//2:\n",
    "            quadrant_count[1] += 1\n",
    "        elif x < W//2 and y > H//2:\n",
    "            quadrant_count[2] += 1\n",
    "        elif x > W//2 and y > H//2:\n",
    "            quadrant_count[3] += 1\n",
    "\n",
    "    return quadrant_count\n",
    "\n",
    "counts = count_robots_in_quadrants(positions)"
   ]
  },
  {
   "cell_type": "code",
   "execution_count": 56,
   "metadata": {},
   "outputs": [
    {
     "data": {
      "text/plain": [
       "221616000"
      ]
     },
     "execution_count": 56,
     "metadata": {},
     "output_type": "execute_result"
    }
   ],
   "source": [
    "result = counts[0]*counts[1]*counts[2]*counts[3]\n",
    "result"
   ]
  },
  {
   "cell_type": "code",
   "execution_count": 57,
   "metadata": {},
   "outputs": [
    {
     "name": "stdout",
     "output_type": "stream",
     "text": [
      ".............1...............................1......................1.........1......1...............\n",
      "1........................................................................1..........................1\n",
      "....1......1.......................................................1.................................\n",
      "...................1........................................1...................1....................\n",
      ".............1.1...................1......1.........1......................1.........................\n",
      "..1........................1...............1.......................1.......1.........................\n",
      "..............................1......................1.............1............................1....\n",
      "...............................1.................1...............................1..........1........\n",
      "...1...................1..1..........................1.......1...........................1...........\n",
      ".1...........................1............1..........................................................\n",
      "......................11...................................1............1.....1..........1...........\n",
      ".....................1..........1.......1...................................1........................\n",
      ".................................1..........................1........................................\n",
      ".....................1..............................1.....1....................1.....................\n",
      "..11...1...........................................................................1..........11.....\n",
      "....1............1.....................1.........1..........................................1........\n",
      ".............1.......1........1......................................................................\n",
      "..............1.1.............1.....................................................................1\n",
      "..................1.........................................1..1.....................................\n",
      "......................................1...............1..............................................\n",
      "....1..................2.......1.................1.1.................................................\n",
      ".......................................1..1....1.........1..........................1.1..............\n",
      "..............................................................................1........1.............\n",
      "...........................................................................1.1.......................\n",
      "................................................................1......................1.............\n",
      ".........................1.......11................................1.......1.........................\n",
      "...11...1.............2.....1..................1................1..1............................1....\n",
      "...........................1.....1..............................1...........1........................\n",
      "...1..................................1......................1.................1....................1\n",
      "...............1.....................1.1.....1.............1........................1................\n",
      "......1..........1...............11......1...........1...1.1.....1.................................1.\n",
      ".....1............1..............................................1...1...............................\n",
      "........................................1............1........................1......................\n",
      "....1...1......1...........................1...............1.............1...1....................1..\n",
      ".........1..1.........1.........................1.........11.1.........1...............1..........1..\n",
      "............................................1............1........1.....................1....1.......\n",
      "1........1.........................................................................1................1\n",
      "......1..............11.........1.............1....1................1................................\n",
      "......................................1..........1...............1...................................\n",
      ".1....1.......1.........1................1.....1...............1..1....................1....1........\n",
      ".......................1......................1.................1.............................1......\n",
      "....1........................................11............................1.........................\n",
      ".....1...................1..1........................................................................\n",
      ".......1...........1.........1...........1.1...............1................1........................\n",
      "......................1.................1.........................................1..................\n",
      "........................................................................1............................\n",
      ".........................1.....................................................1.................1...\n",
      "........................1..............................1.............................................\n",
      "...............................................................1.1........1..........................\n",
      "..........................................1.........................1..1.....1.......................\n",
      "1......................11..1.....................1...............................................1...\n",
      ".............1.1.................................................1...1...............................\n",
      ".......................................1.1...................................1.......................\n",
      ".......................1...................................................1...............1...1.....\n",
      "....................................................1....1...2.11.......1.1.....1.............1......\n",
      ".........1.......................................................1......1..1..............1..........\n",
      "................2....................1.....1.....................1........1..........................\n",
      "1.............................................1...................1................................1.\n",
      ".......1...1............................1....................1................1.....................1\n",
      ".............................1.................1..................1......1......................1....\n",
      "...................1............1.1....................................1.............1...............\n",
      "..........1...............1..................1...........................1...........................\n",
      "...............................11......1..1......................1..1.......1........................\n",
      "................................................................1.............1.............1........\n",
      "..1.............................1......................................1..........................1..\n",
      "..........................................1.1..............................1.......1.................\n",
      "..........1.....................................................1................1..............1..1.\n",
      "............2.....1.1..........1...1......1.........................1..............1.........1..1....\n",
      "..........1...............................1.......................1..2......11.......................\n",
      "........1................................1....................................1.........1............\n",
      "..1.....1.....1.................1...........11.......1....1....1..........1..........................\n",
      "............1.1.....................1................1...1............................1..............\n",
      "......................................1............1....................1................1...........\n",
      "......1..............1..............................................1..1................1............\n",
      ".....1.11........................................1............1....................1.........1.......\n",
      "......................1.............2......1..........1......1...............................1..1..1.\n",
      "....1..............1..1............................................1.........1.......................\n",
      "............1..........................1..........................1.............1....................\n",
      "......1...1.................................1.....1.....1...1..1.................1...................\n",
      ".................................................................................................1...\n",
      "............................................2................................................1.......\n",
      "...1..................................1.......................................1....................1.\n",
      ".........................1......1......................1....1.1................................11....\n",
      "......................................................1..............1........1......................\n",
      "...1.................11...........................1......................................1.2.......1.\n",
      ".......1........1.......1..............1...............1.......................1.................1...\n",
      "1.......................1....1..............1..1...............1.1....1......1............1..........\n",
      "...1...........1...........1..................1........................1................1............\n",
      "................................1...........1............................1...........................\n",
      "...................................................1...................1..............1..............\n",
      "......1..1.........................................1.....................1.1..1......................\n",
      "...1.................1............................................................1..................\n",
      ".................................1..........................1................1..............1.1......\n",
      "..............1.................................................................1....................\n",
      "....................................................................1...............1........1.....1.\n",
      "............................................1...............1........................................\n",
      "....1....................1..................1..............................1..................11.....\n",
      "...................................................1................1..1.........1.2.................\n",
      "........................................1................11........................1.....1.1.1.......\n",
      "......................11............................................1.......1........................\n",
      "........................1.........................1................................................1.\n",
      ".......................................................................1....................1........\n",
      ".................................................1.................................1...............1.\n",
      "\n"
     ]
    }
   ],
   "source": [
    "def print_positions(positions):\n",
    "    for y in range(H):\n",
    "        for x in range(W):\n",
    "            if (x, y) in [p[\"p\"] for p in positions]:\n",
    "                print(str([p[\"p\"] for p in positions].count((x,y))), end=\"\")\n",
    "            else:\n",
    "                print(\".\", end=\"\")\n",
    "        print()\n",
    "    print()\n",
    "\n",
    "print_positions(positions)"
   ]
  },
  {
   "cell_type": "code",
   "execution_count": 58,
   "metadata": {},
   "outputs": [
    {
     "data": {
      "image/jpeg": "[encoded data removed]",
      "image/png": "[encoded data removed]",
      "text/plain": [
       "<PIL.Image.Image image mode=RGB size=103x101>"
      ]
     },
     "execution_count": 58,
     "metadata": {},
     "output_type": "execute_result"
    }
   ],
   "source": [
    "from PIL import Image\n",
    "import numpy as np\n",
    "\n",
    "def draw_positions(positions):\n",
    "    array = np.zeros((W, H, 3), dtype=np.uint8)\n",
    "    for y in range(H):\n",
    "        for x in range(W):\n",
    "            if (x, y) in [p[\"p\"] for p in positions]:\n",
    "                array[x, y] = [255, 255, 255]\n",
    "            else:\n",
    "                array[x, y] = [0, 0, 0]\n",
    "    img = Image.fromarray(array)\n",
    "    return img \n",
    "\n",
    "draw_positions(positions)"
   ]
  },
  {
   "cell_type": "code",
   "execution_count": null,
   "metadata": {},
   "outputs": [],
   "source": []
  },
  {
   "cell_type": "code",
   "execution_count": null,
   "metadata": {},
   "outputs": [],
   "source": [
    "for k in range(399, 1000):\n",
    "    for position in positions: \n",
    "        x = (position[\"p\"][0] + position[\"v\"][0]) % W\n",
    "        y = (position[\"p\"][1] + position[\"v\"][1]) % H\n",
    "\n",
    "        position[\"p\"] = (x, y)\n",
    "\n",
    "    img = draw_positions(positions)  \n",
    "    img.save(f\"frames/frame_{k:03d}.png\") "
   ]
  },
  {
   "cell_type": "code",
   "execution_count": null,
   "metadata": {},
   "outputs": [],
   "source": [
    "# Now we can use ffmpeg to create a video\n",
    "# ffmpeg -r 10 -i frame_%03d.png -vcodec mpeg4 -y movie.mp4 \n",
    "\n",
    "\n",
    "# 98, 199, 300, 401, 502, 603, 704, 805, 1007, 10501: (+101) H \n",
    "# 53, 156, 259,  568... 2113 4173 10353 (+103) W \n",
    "\n",
    "# For whatever reason\n",
    "\n"
   ]
  },
  {
   "cell_type": "code",
   "execution_count": 133,
   "metadata": {},
   "outputs": [],
   "source": [
    "N = len(records)\n",
    "\n",
    "positions = deepcopy(records)\n",
    "\n",
    "interesting = []\n",
    "\n",
    "for iteration in range(7572):\n",
    "    for position in positions: \n",
    "        x = (position[\"p\"][0] + position[\"v\"][0]) % W\n",
    "        y = (position[\"p\"][1] + position[\"v\"][1]) % H\n",
    "\n",
    "        position[\"p\"] = (x, y)\n",
    "\n",
    "    # Detects the number of robots in each quadrant\n",
    "    #count = count_robots_in_quadrants(positions)\n",
    "\n",
    "    #for k in range(4):\n",
    "    #    if count[k] < N/6: \n",
    "    #        print(iteration)\n",
    "    #        interesting.append([iteration])\n",
    "    #        img = draw_positions(positions)  \n",
    "    #        img.save(f\"interesting_frames/frame_{iteration:03d}.png\") \n",
    "                \n",
    "\n"
   ]
  },
  {
   "cell_type": "code",
   "execution_count": 134,
   "metadata": {},
   "outputs": [
    {
     "data": {
      "image/jpeg": "[encoded data removed]",
      "image/png": "[encoded data removed]",
      "text/plain": [
       "<PIL.Image.Image image mode=RGB size=103x101>"
      ]
     },
     "execution_count": 134,
     "metadata": {},
     "output_type": "execute_result"
    }
   ],
   "source": [
    "draw_positions(positions)"
   ]
  },
  {
   "cell_type": "code",
   "execution_count": 128,
   "metadata": {},
   "outputs": [],
   "source": [
    "for k, positions in interesting:\n",
    "    for position in positions: \n",
    "            x = (position[\"p\"][0] + position[\"v\"][0]) % W\n",
    "            y = (position[\"p\"][1] + position[\"v\"][1]) % H\n",
    "\n",
    "            position[\"p\"] = (x, y)\n",
    "\n",
    "    img = draw_positions(positions)  \n",
    "    img.save(f\"interesting_frames/frame_{k:03d}.png\") "
   ]
  },
  {
   "cell_type": "code",
   "execution_count": null,
   "metadata": {},
   "outputs": [],
   "source": [
    "# NOTE: \n",
    "#\n",
    "# I had an idea about reduction of entropy in the target, \n",
    "# but I did not know how to measure it. \n",
    "#\n",
    "# 1. It may be worth figuring out a solution based on this? \n",
    "\n",
    "# 2. Convolution? \n",
    "\n",
    "# 3. Check the number of robots touching each other! "
   ]
  },
  {
   "cell_type": "code",
   "execution_count": null,
   "metadata": {},
   "outputs": [],
   "source": []
  }
 ],
 "metadata": {
  "kernelspec": {
   "display_name": "Python 3",
   "language": "python",
   "name": "python3"
  },
  "language_info": {
   "codemirror_mode": {
    "name": "ipython",
    "version": 3
   },
   "file_extension": ".py",
   "mimetype": "text/x-python",
   "name": "python",
   "nbconvert_exporter": "python",
   "pygments_lexer": "ipython3",
   "version": "3.11.6"
  }
 },
 "nbformat": 4,
 "nbformat_minor": 2
}
