{
 "cells": [
  {
   "cell_type": "markdown",
   "metadata": {},
   "source": [
    "# 17 \n",
    "Uff, this one was tough. First, I submitted in a wrong format and then I got stuck on Pt 2 for way too long. Still, fun challenge :) "
   ]
  },
  {
   "cell_type": "code",
   "execution_count": 619,
   "metadata": {},
   "outputs": [
    {
     "name": "stdout",
     "output_type": "stream",
     "text": [
      "{'Register A': 59590048, 'Register B': 0, 'Register C': 0, 'Program': [2, 4, 1, 5, 7, 5, 0, 3, 1, 6, 4, 3, 5, 5, 3, 0]}\n"
     ]
    }
   ],
   "source": [
    "program = dict() \n",
    "\n",
    "with open(\"input.txt\") as file: \n",
    "    for line in file:\n",
    "        line = line.strip() \n",
    "\n",
    "        if 'Register' in line:\n",
    "            line = line.split(':')\n",
    "            line = [entry.strip() for entry in line]\n",
    "            line[1] = int(line[1])\n",
    "\n",
    "            program[line[0]] = line[1]\n",
    "        \n",
    "        elif 'Program' in line:\n",
    "            line = line.split(':')\n",
    "            line = [entry.strip() for entry in line]\n",
    "            line[1] = line[1].split(',')\n",
    "\n",
    "            program[line[0]] = [int(a) for a in line[1]]\n",
    "\n",
    "print(program)\n",
    "\n",
    "A = program['Register A']\n",
    "B = program['Register B']\n",
    "C = program['Register C']\n",
    "\n",
    "program = program['Program']\n"
   ]
  },
  {
   "cell_type": "code",
   "execution_count": 884,
   "metadata": {},
   "outputs": [
    {
     "data": {
      "text/plain": [
       "[3, 0, 1, 0, 1]"
      ]
     },
     "execution_count": 884,
     "metadata": {},
     "output_type": "execute_result"
    }
   ],
   "source": [
    "\n",
    "\n",
    "def run(A,B,C, program):\n",
    "    def combo_operand(operand):\n",
    "        if operand < 4:\n",
    "            return operand \n",
    "        elif operand == 4:\n",
    "            return A\n",
    "        elif operand == 5:\n",
    "            return B\n",
    "        elif operand == 6:\n",
    "            return C\n",
    "        raise ValueError(\"Invalid operand, you are out of 3 bit operands\")\n",
    "        \n",
    "    pointer = 0\n",
    "    output = []\n",
    "\n",
    "    while pointer < len(program): \n",
    "        opcode = program[pointer]\n",
    "        operand = program[pointer+1]\n",
    "\n",
    "        # print(opcode, operand, '|',A, B, C)\n",
    "        # Evaluate instructions: \n",
    "        if opcode == 0: # adv (division)\n",
    "            A >>= combo_operand(operand) \n",
    "        elif opcode == 1: # bxl (xor)\n",
    "            B ^= operand # TODO: check \n",
    "        elif opcode == 2: # bst (combo)\n",
    "            B = combo_operand(operand) % 8 \n",
    "        elif opcode == 3: # jnz \n",
    "            if A != 0:\n",
    "                pointer = operand \n",
    "                continue\n",
    "        elif opcode == 4:  # bxc  \n",
    "            B ^= C \n",
    "        elif opcode == 5:  # out\n",
    "            # print(\"output:\", combo_operand(operand) % 8)\n",
    "            output.append(combo_operand(operand) % 8)\n",
    "        elif opcode == 6: # bdv\n",
    "            B = A >> combo_operand(operand) \n",
    "        elif opcode == 7: # \n",
    "            C = A >> combo_operand(operand)\n",
    "        pointer += 2 \n",
    "\n",
    "    return output\n",
    "\n",
    "run(10000,0,0, program)"
   ]
  },
  {
   "cell_type": "markdown",
   "metadata": {},
   "source": [
    "# Part 2 "
   ]
  },
  {
   "cell_type": "code",
   "execution_count": 621,
   "metadata": {},
   "outputs": [
    {
     "name": "stdout",
     "output_type": "stream",
     "text": [
      "0 3 | 117440 0 0\n",
      "5 4 | 14680 0 0\n",
      "output: 0\n",
      "3 0 | 14680 0 0\n",
      "0 3 | 14680 0 0\n",
      "5 4 | 1835 0 0\n",
      "output: 3\n",
      "3 0 | 1835 0 0\n",
      "0 3 | 1835 0 0\n",
      "5 4 | 229 0 0\n",
      "output: 5\n",
      "3 0 | 229 0 0\n",
      "0 3 | 229 0 0\n",
      "5 4 | 28 0 0\n",
      "output: 4\n",
      "3 0 | 28 0 0\n",
      "0 3 | 28 0 0\n",
      "5 4 | 3 0 0\n",
      "output: 3\n",
      "3 0 | 3 0 0\n",
      "0 3 | 3 0 0\n",
      "5 4 | 0 0 0\n",
      "output: 0\n",
      "3 0 | 0 0 0\n"
     ]
    },
    {
     "data": {
      "text/plain": [
       "[0, 3, 5, 4, 3, 0]"
      ]
     },
     "execution_count": 621,
     "metadata": {},
     "output_type": "execute_result"
    }
   ],
   "source": [
    "run(117440,0,0, [0,3,5,4,3,0]) #"
   ]
  },
  {
   "cell_type": "code",
   "execution_count": null,
   "metadata": {},
   "outputs": [],
   "source": [
    "# Each loop:\n",
    "# \n",
    "# Halt if A is zero or: \n",
    "# \n",
    "# 24 | A B C \n",
    "# 15 | A A%8 C \n",
    "# 75 | A (A%8^5) C\n",
    "# 03 | A (A%8^5) A>>((A%8^5)) \n",
    "# 16 | A>>3 (A%8^5) A>>((A%8^5))\n",
    "# 43 | A>>3 (A%8^5) A>>((A%8^5))"
   ]
  },
  {
   "cell_type": "code",
   "execution_count": null,
   "metadata": {},
   "outputs": [],
   "source": [
    "def f(A): \n",
    "    a,b,c = (A>>3, ((A%8)^5),  A>>((A%8)^5)) # both b and c are functions of A\n",
    "\n",
    "    # 16 \n",
    "    b = b^6\n",
    "\n",
    "    # 43 \n",
    "    b = b^c\n",
    "\n",
    "    # 55 \n",
    "    return a,b%8,c\n",
    "\n"
   ]
  },
  {
   "cell_type": "code",
   "execution_count": 919,
   "metadata": {},
   "outputs": [
    {
     "name": "stdout",
     "output_type": "stream",
     "text": [
      "Found 105875099912602\n"
     ]
    }
   ],
   "source": [
    "# \n",
    "right_head = len(program) - 1\n",
    "As = [0]\n",
    "\n",
    "while right_head > 0:\n",
    "    digit = program[right_head]\n",
    "\n",
    "    candidates = [] \n",
    "\n",
    "    for A in As: \n",
    "        for k in range(8):\n",
    "            result = run(A + k, 0 ,0, program)\n",
    "            if result[0] == digit:\n",
    "                candidates.append((A + k) << 3)\n",
    "                \n",
    "    As = candidates\n",
    "    right_head -= 1\n",
    "\n",
    "for k in range(8):\n",
    "    if run(105875099912600 + k, 0 ,0, program) == program: \n",
    "        print(\"Found\", 105875099912600 + k)\n",
    "        break\n"
   ]
  }
 ],
 "metadata": {
  "kernelspec": {
   "display_name": "Python 3",
   "language": "python",
   "name": "python3"
  },
  "language_info": {
   "codemirror_mode": {
    "name": "ipython",
    "version": 3
   },
   "file_extension": ".py",
   "mimetype": "text/x-python",
   "name": "python",
   "nbconvert_exporter": "python",
   "pygments_lexer": "ipython3",
   "version": "3.11.6"
  }
 },
 "nbformat": 4,
 "nbformat_minor": 2
}
