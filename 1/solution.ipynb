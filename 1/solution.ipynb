{
 "cells": [
  {
   "cell_type": "markdown",
   "metadata": {},
   "source": [
    "# First"
   ]
  },
  {
   "cell_type": "code",
   "execution_count": 32,
   "metadata": {},
   "outputs": [
    {
     "data": {
      "text/plain": [
       "1590491"
      ]
     },
     "execution_count": 32,
     "metadata": {},
     "output_type": "execute_result"
    }
   ],
   "source": [
    "import numpy as np\n",
    "array = []\n",
    "with open(\"input.txt\", \"r\") as file:\n",
    "    for line in file: \n",
    "        array.append([int(n) for n in line.split()])\n",
    "\n",
    "array = np.array(array)\n",
    "\n",
    "left = array[:, 0]\n",
    "right = array[:, 1]\n",
    "\n",
    "left = np.sort(left)\n",
    "right = np.sort(right)\n",
    "sum(np.abs(left - right))"
   ]
  },
  {
   "cell_type": "markdown",
   "metadata": {},
   "source": [
    "# Second"
   ]
  },
  {
   "cell_type": "code",
   "execution_count": 62,
   "metadata": {},
   "outputs": [
    {
     "data": {
      "text/plain": [
       "22588371"
      ]
     },
     "execution_count": 62,
     "metadata": {},
     "output_type": "execute_result"
    }
   ],
   "source": [
    "import numpy as np\n",
    "array = []\n",
    "with open(\"input.txt\", \"r\") as file:\n",
    "    for line in file: \n",
    "        array.append([int(n) for n in line.split()])\n",
    "\n",
    "array = np.array(array)\n",
    "\n",
    "left = array[:, 0]\n",
    "right = array[:, 1]\n",
    "\n",
    "right = np.bincount(right)\n",
    "left = np.bincount(left)\n",
    "\n",
    "if len(left) > len(right):\n",
    "    left = left[:len(right)]\n",
    "else:\n",
    "    right = right[:len(left)]\n",
    "\n",
    "\n",
    "sequence = np.arange(0,len(left))\n",
    "\n",
    "sum(right*left*sequence)"
   ]
  },
  {
   "cell_type": "code",
   "execution_count": null,
   "metadata": {},
   "outputs": [],
   "source": []
  }
 ],
 "metadata": {
  "kernelspec": {
   "display_name": "Python 3",
   "language": "python",
   "name": "python3"
  },
  "language_info": {
   "codemirror_mode": {
    "name": "ipython",
    "version": 3
   },
   "file_extension": ".py",
   "mimetype": "text/x-python",
   "name": "python",
   "nbconvert_exporter": "python",
   "pygments_lexer": "ipython3",
   "version": "3.11.6"
  }
 },
 "nbformat": 4,
 "nbformat_minor": 2
}
