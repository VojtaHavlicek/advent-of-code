{
 "cells": [
  {
   "cell_type": "markdown",
   "metadata": {},
   "source": [
    "# 21"
   ]
  },
  {
   "cell_type": "code",
   "execution_count": 198,
   "metadata": {},
   "outputs": [],
   "source": [
    "num_keypad = (('7','8','9'),\n",
    "              ('4','5','6'),\n",
    "              ('1','2','3'),\n",
    "              ('X','0','A'))\n",
    "\n",
    "num_position = (3,2) # row, col \n",
    "\n",
    "dir_keypad = (('X', '^', 'A'),\n",
    "              ('<', 'v', '>'))\n",
    "\n",
    "dir_position = (0,2) # row, col"
   ]
  },
  {
   "cell_type": "code",
   "execution_count": 344,
   "metadata": {},
   "outputs": [],
   "source": [
    "from functools import cache\n",
    "\n",
    "def get_sequences(code, keypad, position):\n",
    "    # Initialize the current position to the starting position\n",
    "    current = position\n",
    "   \n",
    "    # Known paths: \n",
    "    result = ['']\n",
    "\n",
    "    # Go character by character in the code\n",
    "    for char in code: \n",
    "        # Find the position of the character on the keypad\n",
    "        char_position = None\n",
    "\n",
    "        for row in range(len(keypad)):\n",
    "            for col in range(len(keypad[0])):\n",
    "                if keypad[row][col] == char:\n",
    "                    char_position = (row, col)\n",
    "\n",
    "        # Find all paths from the current position to the character \n",
    "        paths = [('', current)] # (path, position)\n",
    "        path_stubs = []\n",
    "\n",
    "        while len(paths) > 0: \n",
    "            new_paths = []\n",
    "            for path, position in paths:\n",
    "                if position[0] < char_position[0]:\n",
    "                    if keypad[position[0]+1][position[1]] != 'X':\n",
    "                        new_paths.append((path+'v', (position[0]+1, position[1])))\n",
    "                elif position[0] > char_position[0]:\n",
    "                    if keypad[position[0]-1][position[1]] != 'X':\n",
    "                        new_paths.append((path+'^', (position[0]-1, position[1])))\n",
    "\n",
    "                if position[1] < char_position[1]:\n",
    "                    if keypad[position[0]][position[1]+1] != 'X':\n",
    "                        new_paths.append((path+'>', (position[0], position[1]+1)))\n",
    "                elif position[1] > char_position[1]:\n",
    "                    if keypad[position[0]][position[1]-1] != 'X':\n",
    "                        new_paths.append((path+'<', (position[0], position[1]-1)))\n",
    "\n",
    "                if position == char_position:\n",
    "                    path = path + 'A'\n",
    "                    path_stubs.append(path)\n",
    "            paths = new_paths\n",
    "\n",
    "        # print(f\"char: {char}\", path_stubs)\n",
    "        # Update the current position \n",
    "        current = char_position\n",
    "\n",
    "        # Add the shortest path to the result\n",
    "        updated_result = []\n",
    "        for path in result: \n",
    "            for stub in path_stubs:\n",
    "                \n",
    "                updated_result.append(path + stub)\n",
    "\n",
    "        result = updated_result\n",
    "\n",
    "    return result      \n",
    "\n",
    "\n",
    "def roots(code):\n",
    "    return get_sequences(code, num_keypad, num_position)\n",
    "\n",
    "\n",
    "def second_sequence(code):\n",
    "    return get_sequences(code, dir_keypad, dir_position)"
   ]
  },
  {
   "cell_type": "markdown",
   "metadata": {},
   "source": [
    "### Solution"
   ]
  },
  {
   "cell_type": "code",
   "execution_count": 329,
   "metadata": {},
   "outputs": [
    {
     "data": {
      "text/plain": [
       "['593A', '508A', '386A', '459A', '246A']"
      ]
     },
     "execution_count": 329,
     "metadata": {},
     "output_type": "execute_result"
    }
   ],
   "source": [
    "codes = []\n",
    "with open(\"input.txt\") as f: \n",
    "    for line in f: \n",
    "        codes.append(line.strip())\n",
    "codes"
   ]
  },
  {
   "cell_type": "code",
   "execution_count": 292,
   "metadata": {},
   "outputs": [
    {
     "data": {
      "text/plain": [
       "157892"
      ]
     },
     "execution_count": 292,
     "metadata": {},
     "output_type": "execute_result"
    }
   ],
   "source": [
    "result = 0 \n",
    "\n",
    "for code in codes: \n",
    "    second_sequences = []\n",
    "\n",
    "    for sequence in roots(code):\n",
    "        #print(sequence)\n",
    "        second_sequences.extend(second_sequence(sequence))\n",
    "\n",
    "    second_sequences.sort(key=lambda x: len(x))\n",
    "    \n",
    "    third_sequences = []\n",
    "    for sequence in second_sequences:\n",
    "        #print(sequence)\n",
    "        third_sequences.extend(second_sequence(sequence))\n",
    "\n",
    "    third_sequences.sort(key=lambda x: len(x))\n",
    "\n",
    "    # compute the complexity \n",
    "    complexity = len(third_sequences[0]) * int(code[:-1])\n",
    "\n",
    "    result += complexity\n",
    "\n",
    "result"
   ]
  },
  {
   "cell_type": "markdown",
   "metadata": {},
   "source": [
    "## Part 2\n",
    "\n",
    "This took some time. \n",
    "\n",
    "First, I noticed that after two steps on the dir keyboard, \"v<<A\""
   ]
  },
  {
   "cell_type": "code",
   "execution_count": 293,
   "metadata": {},
   "outputs": [
    {
     "name": "stdout",
     "output_type": "stream",
     "text": [
      "Dir keypad: (('X', '^', 'A'), ('<', 'v', '>'))\n",
      "Num keypad: (('7', '8', '9'), ('4', '5', '6'), ('1', '2', '3'), ('X', '0', 'A'))\n"
     ]
    }
   ],
   "source": [
    "print(f\"Dir keypad: {dir_keypad}\")\n",
    "print(f\"Num keypad: {num_keypad}\")"
   ]
  },
  {
   "cell_type": "code",
   "execution_count": 590,
   "metadata": {},
   "outputs": [],
   "source": [
    "# All possible sequences: \n",
    "keypad_sequences = {\n",
    "        'A^': ['<A'], # starts at A, goes left and commits\n",
    "        'A>': ['vA'], # starts at A, goes down and commits\n",
    "        'Av': ['<vA', 'v<A'], # starts at A, goes left and down, commits\n",
    "        'A<': ['v<<A','<v<A'], # starts at A, goes down and left, commits\n",
    "        '^A': ['>A'], # starts at A, goes right and commits\n",
    "        '>A': ['^A'], # starts at A, goes up and commits\n",
    "        'vA': ['>^A', '^>A'], # starts at A, goes right and up, commits\n",
    "        '<A': ['>>^A', '>^>A'], # starts at A, goes up and right, commits\n",
    "        'AA': ['A'], # starts at A, commits\n",
    "        # ---------------^ \n",
    "        '^>': ['v>A', '>vA'],\n",
    "        '^v': ['vA'],\n",
    "        '^<': ['v<A'],\n",
    "        '>^': ['<^A', '^<A'],\n",
    "        'v^': ['^A'],\n",
    "        '<^': ['>^A'],\n",
    "        '^^': ['A'],\n",
    "        # ---------------v \n",
    "        'v<': ['<A'],\n",
    "        '<v': ['>A'],\n",
    "        'v>': ['>A'],\n",
    "        '>v': ['<A'],\n",
    "        'vv': ['A'],\n",
    "        # ---------------<\n",
    "        '<>': ['>>A'],\n",
    "        '><': ['<<A'],\n",
    "        '<<': ['A'],\n",
    "        # --------------->\n",
    "        '>>': ['A'],\n",
    "    }   "
   ]
  },
  {
   "cell_type": "markdown",
   "metadata": {},
   "source": [
    "## Precompute optimal sequences on the dir keypad"
   ]
  },
  {
   "cell_type": "code",
   "execution_count": 591,
   "metadata": {},
   "outputs": [],
   "source": [
    "from tqdm import tqdm\n",
    "\n",
    "def pick_shortest(roots):\n",
    "\n",
    "    children = {root: [root] for root in roots}\n",
    "    scores = {root: len(root) for root in roots}\n",
    "    \n",
    "    for m in range(3):\n",
    "        # print(\"Depth: \", m)\n",
    "        for root in roots:  \n",
    "            current_children = children[root]\n",
    "\n",
    "            # print(\"current_children: \", current_children)\n",
    "           \n",
    "            # compute next children\n",
    "            next_children = []\n",
    "            for child in current_children:\n",
    "                next_children.extend([second_sequence(child)[0]])\n",
    "\n",
    "            # print(\"Next children: \", next_children) \n",
    "            # filter\n",
    "            next_children = [child for child in next_children if len(child) == min([len(child) for child in next_children])]\n",
    "            \n",
    "            # update children\n",
    "            children[root] = next_children\n",
    "\n",
    "            # update scores\n",
    "            scores[root] = len(next_children[0])\n",
    "\n",
    "        # Check if there is root with unique minimum \n",
    "        min_score = min([scores[root] for root in roots])\n",
    "        min_roots = [root for root in roots if scores[root] == min_score]\n",
    "        # print(f\"{min_roots}, {scores}\")\n",
    "\n",
    "        if len(min_roots) == 1:\n",
    "            # print(f\"Certificate: {min_roots}, {scores}\")\n",
    "            return min_roots[0]\n",
    "        \n",
    "    return min_roots"
   ]
  },
  {
   "cell_type": "code",
   "execution_count": 592,
   "metadata": {},
   "outputs": [
    {
     "data": {
      "text/plain": [
       "{'A^': '<A',\n",
       " 'A>': 'vA',\n",
       " 'Av': '<vA',\n",
       " 'A<': 'v<<A',\n",
       " '^A': '>A',\n",
       " '>A': '^A',\n",
       " 'vA': '^>A',\n",
       " '<A': '>>^A',\n",
       " 'AA': 'A',\n",
       " '^>': 'v>A',\n",
       " '^v': 'vA',\n",
       " '^<': 'v<A',\n",
       " '>^': '<^A',\n",
       " 'v^': '^A',\n",
       " '<^': '>^A',\n",
       " '^^': 'A',\n",
       " 'v<': '<A',\n",
       " '<v': '>A',\n",
       " 'v>': '>A',\n",
       " '>v': '<A',\n",
       " 'vv': 'A',\n",
       " '<>': '>>A',\n",
       " '><': '<<A',\n",
       " '<<': 'A',\n",
       " '>>': 'A'}"
      ]
     },
     "execution_count": 592,
     "metadata": {},
     "output_type": "execute_result"
    }
   ],
   "source": [
    "# Optimal sequences on the dir pad \n",
    "precomputed_dir_sequences = {}\n",
    "\n",
    "for key, sequence in keypad_sequences.items():\n",
    "    shortest = pick_shortest(sequence)\n",
    "    precomputed_dir_sequences[key] = shortest\n",
    "\n",
    "precomputed_dir_sequences"
   ]
  },
  {
   "cell_type": "code",
   "execution_count": 611,
   "metadata": {},
   "outputs": [
    {
     "data": {
      "text/plain": [
       "'v<<A>>^A<A>AvA<^AA>A<vAAA^>A'"
      ]
     },
     "execution_count": 611,
     "metadata": {},
     "output_type": "execute_result"
    }
   ],
   "source": [
    "def get_optimal_path(sequence, start='A'):\n",
    "    if start != sequence[0]:\n",
    "        sequence = start + sequence\n",
    "    result = ''\n",
    "    for i in range(len(sequence)-1):\n",
    "        seq = precomputed_dir_sequences[sequence[i:i+2]]\n",
    "        result = result + seq\n",
    "\n",
    "    return result\n",
    "\n",
    "get_optimal_path('<A^A>^^AvvvA')"
   ]
  },
  {
   "cell_type": "markdown",
   "metadata": {},
   "source": [
    "### Check that I can reproduce Pt 1 with precomputed dirs? \n",
    "\n",
    "**Reproducing a test case first**"
   ]
  },
  {
   "cell_type": "code",
   "execution_count": 688,
   "metadata": {},
   "outputs": [],
   "source": [
    "test_inputs = [\"029A\",\n",
    "\"980A\",\n",
    "\"179A\",\n",
    "\"456A\",\n",
    "\"379A\"]"
   ]
  },
  {
   "cell_type": "code",
   "execution_count": 689,
   "metadata": {},
   "outputs": [],
   "source": [
    "def get_answer(inputs): \n",
    "    answer = dict()  # key is the num input, value is an optimal path\n",
    "\n",
    "    for input in inputs:\n",
    "        long_paths = []\n",
    "\n",
    "        for root in roots(input): # root is a sequence on the num pad\n",
    "            path = get_optimal_path(root)\n",
    "            path2 = get_optimal_path(path)\n",
    "\n",
    "            long_paths.append(path2)\n",
    "\n",
    "        shortest_long_path = min(long_paths, key=lambda x: len(x))\n",
    "        answer[input] = shortest_long_path\n",
    "\n",
    "    return answer"
   ]
  },
  {
   "cell_type": "code",
   "execution_count": 759,
   "metadata": {},
   "outputs": [
    {
     "data": {
      "text/plain": [
       "126384"
      ]
     },
     "execution_count": 759,
     "metadata": {},
     "output_type": "execute_result"
    }
   ],
   "source": [
    "complexity(get_answer(test_inputs))"
   ]
  },
  {
   "cell_type": "markdown",
   "metadata": {},
   "source": [
    "**Reproducing Pt.1**"
   ]
  },
  {
   "cell_type": "code",
   "execution_count": 691,
   "metadata": {},
   "outputs": [
    {
     "data": {
      "text/plain": [
       "157892"
      ]
     },
     "execution_count": 691,
     "metadata": {},
     "output_type": "execute_result"
    }
   ],
   "source": [
    "codes = []\n",
    "with open(\"input.txt\") as f: \n",
    "    for line in f: \n",
    "        codes.append(line.strip())\n",
    "codes\n",
    "\n",
    "complexity(get_answer(codes)) # Sick! Finally"
   ]
  },
  {
   "cell_type": "markdown",
   "metadata": {},
   "source": [
    "### Part 2 solution: \n",
    "\n",
    "Ideas: \n",
    "* memoization \n",
    "* update dict that store sequence lengths instead of sequences?"
   ]
  },
  {
   "cell_type": "code",
   "execution_count": 692,
   "metadata": {},
   "outputs": [],
   "source": [
    "def get_answer_to_pt2(inputs, depth = 1): \n",
    "    answer = dict()  # key is the num input, value is an optimal path\n",
    "\n",
    "    for input in inputs:\n",
    "        long_paths = []\n",
    "\n",
    "        for root in roots(input): # root is a sequence on the num pad\n",
    "            path = get_optimal_path(root)\n",
    "\n",
    "            for _ in range(depth):\n",
    "                path = get_optimal_path(path)\n",
    "    \n",
    "            long_paths.append(path)\n",
    "\n",
    "        # Note: this only goes over roots.\n",
    "        shortest_long_path = min(long_paths, key=lambda x: len(x))\n",
    "        answer[input] = shortest_long_path\n",
    "\n",
    "    return answer"
   ]
  },
  {
   "cell_type": "code",
   "execution_count": 693,
   "metadata": {},
   "outputs": [
    {
     "data": {
      "text/plain": [
       "'<A'"
      ]
     },
     "execution_count": 693,
     "metadata": {},
     "output_type": "execute_result"
    }
   ],
   "source": [
    "get_optimal_path('A^', start='A')"
   ]
  },
  {
   "cell_type": "code",
   "execution_count": null,
   "metadata": {},
   "outputs": [],
   "source": [
    "def complexity(answer):\n",
    "    result = 0\n",
    "\n",
    "    for code, path in answer.items():\n",
    "        result += len(path) * int(code[:-1])\n",
    "\n",
    "    return result"
   ]
  },
  {
   "cell_type": "code",
   "execution_count": 694,
   "metadata": {},
   "outputs": [
    {
     "data": {
      "text/plain": [
       "5954180"
      ]
     },
     "execution_count": 694,
     "metadata": {},
     "output_type": "execute_result"
    }
   ],
   "source": [
    "complexity(get_answer_to_pt2(codes, 5))"
   ]
  },
  {
   "cell_type": "markdown",
   "metadata": {},
   "source": [
    "### Memoize optimal sequences?"
   ]
  },
  {
   "cell_type": "code",
   "execution_count": 695,
   "metadata": {},
   "outputs": [],
   "source": [
    "# memoize sequences of key strokes on the second keypad that control the first keypad\n",
    "\n",
    "memo = dict() \n",
    "\n",
    "for key, sequence in precomputed_dir_sequences.items():\n",
    "    memo[key] = get_optimal_path(sequence, start='A')"
   ]
  },
  {
   "cell_type": "markdown",
   "metadata": {},
   "source": [
    "## Does a dict representation work here?"
   ]
  },
  {
   "cell_type": "code",
   "execution_count": 723,
   "metadata": {},
   "outputs": [],
   "source": [
    "test_seq = '<A^A>^^AvvvA'\n",
    "\n",
    "def seq_to_dict(seq):\n",
    "    \"\"\"\n",
    "    Convert test seq to a dict of pairs : counts\n",
    "    \"\"\"\n",
    "    if seq[0] != 'A':\n",
    "        seq = 'A' + seq\n",
    "\n",
    "    elif seq == 'A':\n",
    "        return {'AA': 1}\n",
    "\n",
    "    result = dict()\n",
    "    for i in range(len(seq)-1):\n",
    "        result.setdefault(seq[i:i+2], 0)\n",
    "        result[seq[i:i+2]] += 1\n",
    "\n",
    "    return result\n",
    "\n",
    "def iterate_seq_dict(input_dict): \n",
    "    \"\"\"\n",
    "    Iterate the dictionary of pairs: counts\n",
    "\n",
    "    Given an input dict that stores the counts for each path on the sequence, \n",
    "    generate the next iteration of the dictionary\n",
    "    \"\"\"\n",
    "    new_dict = dict() \n",
    "\n",
    "    for key, value in input_dict.items():\n",
    "       \n",
    "        path =  precomputed_dir_sequences[key]\n",
    "        subdict = seq_to_dict(path)\n",
    "       \n",
    "        for subkey, subvalue in subdict.items():\n",
    "            new_dict.setdefault(subkey, 0)\n",
    "            new_dict[subkey] += subvalue*value\n",
    "\n",
    "    return new_dict\n",
    "    "
   ]
  },
  {
   "cell_type": "markdown",
   "metadata": {},
   "source": [
    "Small test example with <A^^A>"
   ]
  },
  {
   "cell_type": "code",
   "execution_count": 724,
   "metadata": {},
   "outputs": [],
   "source": [
    "test_dict = seq_to_dict('<A^^A>')   "
   ]
  },
  {
   "cell_type": "code",
   "execution_count": 725,
   "metadata": {},
   "outputs": [
    {
     "name": "stdout",
     "output_type": "stream",
     "text": [
      "{'A<': 1, '<A': 1, 'A^': 1, '^^': 1, '^A': 1, 'A>': 1}\n"
     ]
    }
   ],
   "source": [
    "print(test_dict)"
   ]
  },
  {
   "cell_type": "code",
   "execution_count": 726,
   "metadata": {},
   "outputs": [
    {
     "name": "stdout",
     "output_type": "stream",
     "text": [
      "A<\n",
      "v<<A {'Av': 1, 'v<': 1, '<<': 1, '<A': 1}\n",
      "<A\n",
      ">>^A {'A>': 1, '>>': 1, '>^': 1, '^A': 1}\n",
      "A^\n",
      "<A {'A<': 1, '<A': 1}\n",
      "^^\n",
      "A {'AA': 1}\n",
      "^A\n",
      ">A {'A>': 1, '>A': 1}\n",
      "A>\n",
      "vA {'Av': 1, 'vA': 1}\n"
     ]
    },
    {
     "data": {
      "text/plain": [
       "{'Av': 2,\n",
       " 'v<': 1,\n",
       " '<<': 1,\n",
       " '<A': 2,\n",
       " 'A>': 2,\n",
       " '>>': 1,\n",
       " '>^': 1,\n",
       " '^A': 1,\n",
       " 'A<': 1,\n",
       " 'AA': 1,\n",
       " '>A': 1,\n",
       " 'vA': 1}"
      ]
     },
     "execution_count": 726,
     "metadata": {},
     "output_type": "execute_result"
    }
   ],
   "source": [
    "new_dict = dict() \n",
    "\n",
    "path_check = ''\n",
    "for key, value in test_dict.items():\n",
    "    print(key)\n",
    "    path =  precomputed_dir_sequences[key]\n",
    "    path_check = path_check + path\n",
    "    subdict = seq_to_dict(path)\n",
    "    print(path, subdict)\n",
    "    for subkey, subvalue in subdict.items():\n",
    "        new_dict.setdefault(subkey, 0)\n",
    "        new_dict[subkey] += subvalue\n",
    "\n",
    "new_dict"
   ]
  },
  {
   "cell_type": "code",
   "execution_count": 727,
   "metadata": {},
   "outputs": [],
   "source": [
    "assert(iterate_seq_dict(test_dict) == new_dict == seq_to_dict(path_check)) # Sanity check"
   ]
  },
  {
   "cell_type": "markdown",
   "metadata": {},
   "source": [
    "## Larger example\n",
    "\n",
    "First, check that the iteration on dict commutes correctly"
   ]
  },
  {
   "cell_type": "code",
   "execution_count": 741,
   "metadata": {},
   "outputs": [],
   "source": [
    "test_root = roots(codes[0])[0]\n",
    "get_optimal_path(test_root)\n",
    "\n",
    "A = seq_to_dict(get_optimal_path(test_root))\n",
    "B = iterate_seq_dict(seq_to_dict(test_root))\n",
    "\n",
    "assert(A == B)\n",
    "assert(len(get_optimal_path(test_root)) == sum(A.values()))"
   ]
  },
  {
   "cell_type": "markdown",
   "metadata": {},
   "source": [
    "### Check that I can reproduce Pt.1\n",
    "\n",
    "#### Test inputs:"
   ]
  },
  {
   "cell_type": "code",
   "execution_count": 764,
   "metadata": {},
   "outputs": [
    {
     "data": {
      "text/plain": [
       "126384"
      ]
     },
     "execution_count": 764,
     "metadata": {},
     "output_type": "execute_result"
    }
   ],
   "source": [
    "test_inputs = [\"029A\",\n",
    "\"980A\",\n",
    "\"179A\",\n",
    "\"456A\",\n",
    "\"379A\"]\n",
    "\n",
    "def get_answer_from_dicts(inputs, depth = 2): \n",
    "    answer = dict()  # key is the num input, value is an optimal path\n",
    "\n",
    "    for input in inputs:\n",
    "        long_paths = []\n",
    "\n",
    "        for root in roots(input): # root is a sequence on the num pad\n",
    "            path_dict = seq_to_dict(root)\n",
    "\n",
    "            for _ in range(depth):\n",
    "                path_dict = iterate_seq_dict(path_dict)\n",
    "\n",
    "            long_paths.append(sum(path_dict.values()))\n",
    "\n",
    "        shortest_long_path = min(long_paths)\n",
    "        answer[input] = shortest_long_path\n",
    "\n",
    "    return answer\n",
    "\n",
    "def complexity_form_dicts(answer):\n",
    "    result = 0 \n",
    "    for key, value in answer.items():\n",
    "        result += value * int(key[:-1])\n",
    "\n",
    "    return result\n",
    "\n",
    "complexity_form_dicts(get_answer_from_dicts(test_inputs))"
   ]
  },
  {
   "cell_type": "markdown",
   "metadata": {},
   "source": [
    "#### Inputs "
   ]
  },
  {
   "cell_type": "code",
   "execution_count": 766,
   "metadata": {},
   "outputs": [
    {
     "data": {
      "text/plain": [
       "157892"
      ]
     },
     "execution_count": 766,
     "metadata": {},
     "output_type": "execute_result"
    }
   ],
   "source": [
    "codes = []\n",
    "with open(\"input.txt\") as f: \n",
    "    for line in f: \n",
    "        codes.append(line.strip())\n",
    "codes\n",
    "\n",
    "complexity_form_dicts(get_answer_from_dicts(codes)) # Correcto"
   ]
  },
  {
   "cell_type": "code",
   "execution_count": 771,
   "metadata": {},
   "outputs": [
    {
     "data": {
      "text/plain": [
       "197015606336332"
      ]
     },
     "execution_count": 771,
     "metadata": {},
     "output_type": "execute_result"
    }
   ],
   "source": [
    "complexity_form_dicts(get_answer_from_dicts(codes, depth=25)) # FK YEAH"
   ]
  }
 ],
 "metadata": {
  "kernelspec": {
   "display_name": "Python 3",
   "language": "python",
   "name": "python3"
  },
  "language_info": {
   "codemirror_mode": {
    "name": "ipython",
    "version": 3
   },
   "file_extension": ".py",
   "mimetype": "text/x-python",
   "name": "python",
   "nbconvert_exporter": "python",
   "pygments_lexer": "ipython3",
   "version": "3.11.6"
  }
 },
 "nbformat": 4,
 "nbformat_minor": 2
}
