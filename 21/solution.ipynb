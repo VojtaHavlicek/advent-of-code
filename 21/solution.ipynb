{
 "cells": [
  {
   "cell_type": "markdown",
   "metadata": {},
   "source": [
    "# 21"
   ]
  },
  {
   "cell_type": "code",
   "execution_count": 13,
   "metadata": {},
   "outputs": [],
   "source": [
    "num_keypad = (('7','8','9'),\n",
    "              ('4','5','6'),\n",
    "              ('1','2','3'),\n",
    "              ('X','0','A'))\n",
    "\n",
    "num_position = (3,2) # row, col \n",
    "\n",
    "dir_keypad = (('X', '^', 'A'),\n",
    "              ('<', 'v', '>'))\n",
    "\n",
    "dir_position = (0,2) # row, col"
   ]
  },
  {
   "cell_type": "code",
   "execution_count": 14,
   "metadata": {},
   "outputs": [],
   "source": [
    "from functools import cache\n",
    "\n",
    "@cache\n",
    "def get_sequences(code, keypad, position):\n",
    "    # Initialize the current position to the starting position\n",
    "    current = position\n",
    "   \n",
    "    # Known paths: \n",
    "    result = ['']\n",
    "\n",
    "    # Go character by character in the code\n",
    "    for char in code: \n",
    "        # Find the position of the character on the keypad\n",
    "        char_position = None\n",
    "\n",
    "        for row in range(len(keypad)):\n",
    "            for col in range(len(keypad[0])):\n",
    "                if keypad[row][col] == char:\n",
    "                    char_position = (row, col)\n",
    "\n",
    "        # Find all paths from the current position to the character \n",
    "        paths = [('', current)] # (path, position)\n",
    "        path_stubs = []\n",
    "\n",
    "        while len(paths) > 0: \n",
    "            new_paths = []\n",
    "            for path, position in paths:\n",
    "                if position[0] < char_position[0]:\n",
    "                    if keypad[position[0]+1][position[1]] != 'X':\n",
    "                        new_paths.append((path+'v', (position[0]+1, position[1])))\n",
    "                elif position[0] > char_position[0]:\n",
    "                    if keypad[position[0]-1][position[1]] != 'X':\n",
    "                        new_paths.append((path+'^', (position[0]-1, position[1])))\n",
    "\n",
    "                if position[1] < char_position[1]:\n",
    "                    if keypad[position[0]][position[1]+1] != 'X':\n",
    "                        new_paths.append((path+'>', (position[0], position[1]+1)))\n",
    "                elif position[1] > char_position[1]:\n",
    "                    if keypad[position[0]][position[1]-1] != 'X':\n",
    "                        new_paths.append((path+'<', (position[0], position[1]-1)))\n",
    "\n",
    "                if position == char_position:\n",
    "                    path = path + 'A'\n",
    "                    path_stubs.append(path)\n",
    "            paths = new_paths\n",
    "\n",
    "        # print(f\"char: {char}\", path_stubs)\n",
    "        # Update the current position \n",
    "        current = char_position\n",
    "\n",
    "        # Add the shortest path to the result\n",
    "        updated_result = []\n",
    "        for path in result: \n",
    "            for stub in path_stubs:\n",
    "                \n",
    "                updated_result.append(path + stub)\n",
    "\n",
    "        result = updated_result\n",
    "\n",
    "    return result         "
   ]
  },
  {
   "cell_type": "code",
   "execution_count": 20,
   "metadata": {},
   "outputs": [],
   "source": [
    "@cache\n",
    "def first_sequence(code):\n",
    "    return get_sequences(code, num_keypad, num_position)\n",
    "\n",
    "@cache\n",
    "def second_sequence(code):\n",
    "    return get_sequences(code, dir_keypad, dir_position)\n"
   ]
  },
  {
   "cell_type": "markdown",
   "metadata": {},
   "source": [
    "### Solution"
   ]
  },
  {
   "cell_type": "code",
   "execution_count": 22,
   "metadata": {},
   "outputs": [
    {
     "data": {
      "text/plain": [
       "['593A', '508A', '386A', '459A', '246A']"
      ]
     },
     "execution_count": 22,
     "metadata": {},
     "output_type": "execute_result"
    }
   ],
   "source": [
    "codes = []\n",
    "with open(\"input.txt\") as f: \n",
    "    for line in f: \n",
    "        codes.append(line.strip())\n",
    "codes"
   ]
  },
  {
   "cell_type": "code",
   "execution_count": 23,
   "metadata": {},
   "outputs": [
    {
     "data": {
      "text/plain": [
       "157892"
      ]
     },
     "execution_count": 23,
     "metadata": {},
     "output_type": "execute_result"
    }
   ],
   "source": [
    "result = 0 \n",
    "\n",
    "for code in codes: \n",
    "    second_sequences = []\n",
    "\n",
    "    for sequence in first_sequence(code):\n",
    "        #print(sequence)\n",
    "        second_sequences.extend(second_sequence(sequence))\n",
    "\n",
    "    second_sequences.sort(key=lambda x: len(x))\n",
    "    \n",
    "    third_sequences = []\n",
    "    for sequence in second_sequences:\n",
    "        #print(sequence)\n",
    "        third_sequences.extend(second_sequence(sequence))\n",
    "\n",
    "    third_sequences.sort(key=lambda x: len(x))\n",
    "\n",
    "    # compute the complexity \n",
    "    complexity = len(third_sequences[0]) * int(code[:-1])\n",
    "\n",
    "    result += complexity\n",
    "\n",
    "result"
   ]
  },
  {
   "cell_type": "markdown",
   "metadata": {},
   "source": [
    "## Part 2"
   ]
  },
  {
   "cell_type": "code",
   "execution_count": 101,
   "metadata": {},
   "outputs": [
    {
     "data": {
      "text/plain": [
       "[['X', '^', 'A'], ['<', 'v', '>']]"
      ]
     },
     "execution_count": 101,
     "metadata": {},
     "output_type": "execute_result"
    }
   ],
   "source": [
    "dir_keypad\n",
    "num_keypad"
   ]
  },
  {
   "cell_type": "code",
   "execution_count": 6,
   "metadata": {},
   "outputs": [
    {
     "ename": "NameError",
     "evalue": "name 'get_sequences' is not defined",
     "output_type": "error",
     "traceback": [
      "\u001b[0;31m---------------------------------------------------------------------------\u001b[0m",
      "\u001b[0;31mNameError\u001b[0m                                 Traceback (most recent call last)",
      "Cell \u001b[0;32mIn[6], line 1\u001b[0m\n\u001b[0;32m----> 1\u001b[0m \u001b[43mget_sequences\u001b[49m(\u001b[38;5;124m'\u001b[39m\u001b[38;5;124m029A\u001b[39m\u001b[38;5;124m'\u001b[39m, num_keypad, num_position)\n",
      "\u001b[0;31mNameError\u001b[0m: name 'get_sequences' is not defined"
     ]
    }
   ],
   "source": [
    "get_sequences('029A', num_keypad, num_position)"
   ]
  },
  {
   "cell_type": "code",
   "execution_count": 102,
   "metadata": {},
   "outputs": [],
   "source": [
    "def find_dir_sequences(current, target, keypad = dir_keypad):\n",
    "    # Find all paths from the current position to the character \n",
    "    path_stubs = []\n",
    "\n",
    "    paths = [('', current)] \n",
    "    while len(paths) > 0: \n",
    "        new_paths = []\n",
    "        for path, init_position in paths:\n",
    "            if init_position[0] < target[0]:\n",
    "                if keypad[init_position[0]+1][init_position[1]] != 'X':\n",
    "                    new_paths.append((path+'v', (init_position[0]+1, init_position[1])))\n",
    "            elif init_position[0] > target[0]:\n",
    "                if keypad[init_position[0]-1][init_position[1]] != 'X':\n",
    "                    new_paths.append((path+'^', (init_position[0]-1, init_position[1])))\n",
    "\n",
    "            if init_position[1] < target[1]:\n",
    "                if keypad[init_position[0]][init_position[1]+1] != 'X':\n",
    "                    new_paths.append((path+'>', (init_position[0], init_position[1]+1)))\n",
    "            elif init_position[1] > target[1]:\n",
    "                if keypad[init_position[0]][init_position[1]-1] != 'X':\n",
    "                    new_paths.append((path+'<', (init_position[0], init_position[1]-1)))\n",
    "\n",
    "            if init_position == target:\n",
    "                path = path + 'A'\n",
    "                path_stubs.append(path)\n",
    "        paths = new_paths\n",
    "\n",
    "    return path_stubs\n",
    "\n",
    "def precompute_dir_sequences(keypad = dir_keypad): \n",
    "    sequences = {}\n",
    "    for init_row in range(len(keypad)):\n",
    "        for init_col in range(len(keypad[0])):\n",
    "            for target_row in range(len(keypad)):\n",
    "                for target_col in range(len(keypad[0])):\n",
    "                    sequences[(init_row, init_col), (target_row, target_col)] = find_dir_sequences((init_row, init_col), (target_row, target_col), keypad)\n",
    "    return sequences"
   ]
  },
  {
   "cell_type": "code",
   "execution_count": 103,
   "metadata": {},
   "outputs": [],
   "source": [
    "dir_keypad_sequences = precompute_dir_sequences()\n",
    "num_keypad_sequences = precompute_dir_sequences(num_keypad)"
   ]
  },
  {
   "cell_type": "code",
   "execution_count": 109,
   "metadata": {},
   "outputs": [],
   "source": [
    "from functools import cache \n",
    "\n",
    "def get_sequences_memo(code, keypad, init_position):\n",
    "    memo = num_keypad_sequences if keypad == num_keypad else dir_keypad_sequences\n",
    "    # Initialize the current position to the starting position\n",
    "    current = init_position\n",
    "   \n",
    "    # Known paths: \n",
    "    result = ''\n",
    "\n",
    "    # Go character by character in the code\n",
    "    for char in code: \n",
    "        # Find the position of the character on the keypad\n",
    "        char_position = None\n",
    "\n",
    "        for row in range(len(keypad)):\n",
    "            for col in range(len(keypad[0])):\n",
    "                if keypad[row][col] == char:\n",
    "                    char_position = (row, col)\n",
    "\n",
    "       \n",
    "        path_stubs = memo[(current, char_position)]\n",
    "        current = char_position\n",
    "\n",
    "        result = result + path_stubs[0]\n",
    "\n",
    "    return result"
   ]
  },
  {
   "cell_type": "code",
   "execution_count": 110,
   "metadata": {},
   "outputs": [
    {
     "data": {
      "text/plain": [
       "'<A^A^^>AvvvA'"
      ]
     },
     "execution_count": 110,
     "metadata": {},
     "output_type": "execute_result"
    }
   ],
   "source": [
    "get_sequences_memo('029A', num_keypad, num_position)"
   ]
  },
  {
   "cell_type": "code",
   "execution_count": 15,
   "metadata": {},
   "outputs": [
    {
     "name": "stdout",
     "output_type": "stream",
     "text": [
      "code:  593A\n"
     ]
    },
    {
     "name": "stderr",
     "output_type": "stream",
     "text": [
      "100%|██████████| 15/15 [00:08<00:00,  1.79it/s]\n"
     ]
    },
    {
     "name": "stdout",
     "output_type": "stream",
     "text": [
      "code:  508A\n"
     ]
    },
    {
     "name": "stderr",
     "output_type": "stream",
     "text": [
      "100%|██████████| 15/15 [00:12<00:00,  1.20it/s]\n"
     ]
    },
    {
     "name": "stdout",
     "output_type": "stream",
     "text": [
      "code:  386A\n"
     ]
    },
    {
     "name": "stderr",
     "output_type": "stream",
     "text": [
      "100%|██████████| 15/15 [00:08<00:00,  1.79it/s]\n"
     ]
    },
    {
     "name": "stdout",
     "output_type": "stream",
     "text": [
      "code:  459A\n"
     ]
    },
    {
     "name": "stderr",
     "output_type": "stream",
     "text": [
      "100%|██████████| 15/15 [00:10<00:00,  1.39it/s]\n"
     ]
    },
    {
     "name": "stdout",
     "output_type": "stream",
     "text": [
      "code:  246A\n"
     ]
    },
    {
     "name": "stderr",
     "output_type": "stream",
     "text": [
      "100%|██████████| 15/15 [00:08<00:00,  1.67it/s]\n"
     ]
    },
    {
     "data": {
      "text/plain": [
       "2192"
      ]
     },
     "execution_count": 15,
     "metadata": {},
     "output_type": "execute_result"
    }
   ],
   "source": [
    "# Memoize on top of this? Wth\n",
    "from tqdm import tqdm\n",
    "\n",
    "result = 0\n",
    "\n",
    "for code in codes:\n",
    "    first_sequences = get_sequences_memo(code, num_keypad, num_position)\n",
    "    current_sequences = first_sequences\n",
    "    \n",
    "    print(\"code: \", code)\n",
    "    for _ in tqdm(range(15)):\n",
    "\n",
    "        new_current_sequences = []\n",
    "        for sequence in current_sequences:\n",
    "            new_current_sequences.extend(get_sequences_memo(sequence, dir_keypad, dir_position))\n",
    "       \n",
    "        shortest_path_length = 10*len(sequence)\n",
    "\n",
    "        for sequence in new_current_sequences:\n",
    "            if len(sequence) < shortest_path_length:\n",
    "                shortest_path_length = len(sequence)\n",
    "\n",
    "        current_sequences = filter(lambda x: len(x) == shortest_path_length, new_current_sequences)\n",
    "\n",
    "    result += shortest_path_length * int(code[:-1])\n",
    "\n",
    "result"
   ]
  },
  {
   "cell_type": "code",
   "execution_count": 67,
   "metadata": {},
   "outputs": [
    {
     "data": {
      "text/plain": [
       "{((0, 1), (0, 1)): ['A'],\n",
       " ((0, 1), (0, 2)): ['>A'],\n",
       " ((0, 1), (1, 0)): ['v<A'],\n",
       " ((0, 1), (1, 1)): ['vA'],\n",
       " ((0, 1), (1, 2)): ['v>A', '>vA'],\n",
       " ((0, 2), (0, 1)): ['<A'],\n",
       " ((0, 2), (0, 2)): ['A'],\n",
       " ((0, 2), (1, 0)): ['v<<A'],\n",
       " ((0, 2), (1, 1)): ['v<A', '<vA'],\n",
       " ((0, 2), (1, 2)): ['vA'],\n",
       " ((1, 0), (0, 1)): ['>^A'],\n",
       " ((1, 0), (0, 2)): ['>>^A'],\n",
       " ((1, 0), (1, 0)): ['A'],\n",
       " ((1, 0), (1, 1)): ['>A'],\n",
       " ((1, 0), (1, 2)): ['>>A'],\n",
       " ((1, 1), (0, 1)): ['^A'],\n",
       " ((1, 1), (0, 2)): ['^>A', '>^A'],\n",
       " ((1, 1), (1, 0)): ['<A'],\n",
       " ((1, 1), (1, 1)): ['A'],\n",
       " ((1, 1), (1, 2)): ['>A'],\n",
       " ((1, 2), (0, 1)): ['^<A', '<^A'],\n",
       " ((1, 2), (0, 2)): ['^A'],\n",
       " ((1, 2), (1, 0)): ['<<A'],\n",
       " ((1, 2), (1, 1)): ['<A'],\n",
       " ((1, 2), (1, 2)): ['A']}"
      ]
     },
     "execution_count": 67,
     "metadata": {},
     "output_type": "execute_result"
    }
   ],
   "source": [
    "filtered_dir = dict() \n",
    "\n",
    "for (start, end), seq in dir_keypad_sequences.items():\n",
    "    if start == (0,0) or end == (0,0):\n",
    "        continue\n",
    "\n",
    "    candidates = []\n",
    "    shortest = -1\n",
    "    for s in seq:\n",
    "\n",
    "        if shortest == -1 or len(second_sequence(s)[0]) < shortest:\n",
    "            shortest = len(second_sequence(s)[0])\n",
    "            candidates = [s]\n",
    "        elif len(second_sequence(s)[0]) == shortest:\n",
    "            candidates.append(s)\n",
    "    filtered_dir[(start, end)] = candidates\n",
    "    \n",
    "\n",
    "double_filter = dict()\n",
    "for (start, end), seq in filtered_dir.items():\n",
    "    if start == (0,0) or end == (0,0):\n",
    "        continue\n",
    "\n",
    "    candidates = []\n",
    "    shortest = -1\n",
    "    for s in seq:\n",
    "\n",
    "        if shortest == -1 or len(second_sequence(s)[0]) < shortest:\n",
    "            shortest = len(second_sequence(s)[0])\n",
    "            candidates = [s]\n",
    "        elif len(second_sequence(s)[0]) == shortest:\n",
    "            candidates.append(s)\n",
    "    double_filter[(start, end)] = candidates\n",
    "    \n",
    "double_filter "
   ]
  },
  {
   "cell_type": "code",
   "execution_count": 88,
   "metadata": {},
   "outputs": [
    {
     "name": "stdout",
     "output_type": "stream",
     "text": [
      "--\n",
      "vA^<A>A 19\n",
      "---\n",
      "v<A^>A<Av<A>^>AvA^A 53\n",
      "v<A^>A<Av<A>>^AvA^A 51\n",
      "v<A>^A<Av<A>^>AvA^A 53\n",
      "v<A>^A<Av<A>>^AvA^A 51\n",
      "<vA^>A<Av<A>^>AvA^A 53\n",
      "<vA^>A<Av<A>>^AvA^A 51\n",
      "<vA>^A<Av<A>^>AvA^A 53\n",
      "<vA>^A<Av<A>>^AvA^A 51\n",
      "--\n",
      "vA<^A>A 19\n",
      "---\n",
      "v<A^>Av<<A>^A>AvA^A 47\n",
      "v<A^>A<v<A>^A>AvA^A 49\n",
      "v<A>^Av<<A>^A>AvA^A 47\n",
      "v<A>^A<v<A>^A>AvA^A 49\n",
      "<vA^>Av<<A>^A>AvA^A 47\n",
      "<vA^>A<v<A>^A>AvA^A 49\n",
      "<vA>^Av<<A>^A>AvA^A 47\n",
      "<vA>^A<v<A>^A>AvA^A 49\n"
     ]
    }
   ],
   "source": [
    "seq = second_sequence('>^A')\n",
    "for s in seq:\n",
    "    print('--')\n",
    "    seq2 = second_sequence(s)\n",
    "    print(s, len(second_sequence(s)[0]))\n",
    "    print('---')    \n",
    "    for s2 in seq2:\n",
    "        print(s2, len(second_sequence(s2)[0]))\n",
    "\n"
   ]
  },
  {
   "cell_type": "code",
   "execution_count": 71,
   "metadata": {},
   "outputs": [
    {
     "data": {
      "text/plain": [
       "{((0, 1), (0, 1)): ['A'],\n",
       " ((0, 1), (0, 2)): ['>A'],\n",
       " ((0, 1), (1, 0)): ['v<A'],\n",
       " ((0, 1), (1, 1)): ['vA'],\n",
       " ((0, 1), (1, 2)): ['v>A', '>vA'],\n",
       " ((0, 2), (0, 1)): ['<A'],\n",
       " ((0, 2), (0, 2)): ['A'],\n",
       " ((0, 2), (1, 0)): ['v<<A'],\n",
       " ((0, 2), (1, 1)): ['v<A', '<vA'],\n",
       " ((0, 2), (1, 2)): ['vA'],\n",
       " ((1, 0), (0, 1)): ['>^A'],\n",
       " ((1, 0), (0, 2)): ['>>^A'],\n",
       " ((1, 0), (1, 0)): ['A'],\n",
       " ((1, 0), (1, 1)): ['>A'],\n",
       " ((1, 0), (1, 2)): ['>>A'],\n",
       " ((1, 1), (0, 1)): ['^A'],\n",
       " ((1, 1), (0, 2)): ['^>A', '>^A'],\n",
       " ((1, 1), (1, 0)): ['<A'],\n",
       " ((1, 1), (1, 1)): ['A'],\n",
       " ((1, 1), (1, 2)): ['>A'],\n",
       " ((1, 2), (0, 1)): ['^<A', '<^A'],\n",
       " ((1, 2), (0, 2)): ['^A'],\n",
       " ((1, 2), (1, 0)): ['<<A'],\n",
       " ((1, 2), (1, 1)): ['<A'],\n",
       " ((1, 2), (1, 2)): ['A']}"
      ]
     },
     "execution_count": 71,
     "metadata": {},
     "output_type": "execute_result"
    }
   ],
   "source": [
    "filtered_dir"
   ]
  },
  {
   "cell_type": "code",
   "execution_count": null,
   "metadata": {},
   "outputs": [],
   "source": []
  },
  {
   "cell_type": "code",
   "execution_count": 58,
   "metadata": {},
   "outputs": [
    {
     "name": "stdout",
     "output_type": "stream",
     "text": [
      "A 1\n",
      "['A'] 1\n",
      "---\n",
      ">A 4\n",
      "['>A'] 4\n",
      "---\n",
      "v<A 9\n",
      "['v<A'] 9\n",
      "---\n",
      "vA 6\n",
      "['vA'] 6\n",
      "---\n",
      "v>A 7\n",
      ">vA 7\n",
      "['v>A', '>vA'] 7\n",
      "---\n",
      "<A 8\n",
      "['<A'] 8\n",
      "---\n",
      "A 1\n",
      "['A'] 1\n",
      "---\n",
      "v<<A 10\n",
      "<v<A 12\n",
      "['v<<A'] 10\n",
      "---\n",
      "v<A 9\n",
      "<vA 9\n",
      "['v<A', '<vA'] 9\n",
      "---\n",
      "vA 6\n",
      "['vA'] 6\n",
      "---\n",
      ">^A 7\n",
      "['>^A'] 7\n",
      "---\n",
      ">^>A 10\n",
      ">>^A 8\n",
      "['>>^A'] 8\n",
      "---\n",
      "A 1\n",
      "['A'] 1\n",
      "---\n",
      ">A 4\n",
      "['>A'] 4\n",
      "---\n",
      ">>A 5\n",
      "['>>A'] 5\n",
      "---\n",
      "^A 4\n",
      "['^A'] 4\n",
      "---\n",
      "^>A 7\n",
      ">^A 7\n",
      "['^>A', '>^A'] 7\n",
      "---\n",
      "<A 8\n",
      "['<A'] 8\n",
      "---\n",
      "A 1\n",
      "['A'] 1\n",
      "---\n",
      ">A 4\n",
      "['>A'] 4\n",
      "---\n",
      "^<A 9\n",
      "<^A 9\n",
      "['^<A', '<^A'] 9\n",
      "---\n",
      "^A 4\n",
      "['^A'] 4\n",
      "---\n",
      "<<A 9\n",
      "['<<A'] 9\n",
      "---\n",
      "<A 8\n",
      "['<A'] 8\n",
      "---\n",
      "A 1\n",
      "['A'] 1\n",
      "---\n"
     ]
    }
   ],
   "source": [
    "for (start, end), seq in dir_keypad_sequences.items():\n",
    "    if start == (0,0) or end == (0,0):\n",
    "        continue\n",
    "\n",
    "    candidates = []\n",
    "    shortest = 100000\n",
    "    for s in seq:\n",
    "       \n",
    "        print(s, len(second_sequence(s)[0]))\n",
    "        if len(second_sequence(s)[0]) < shortest:\n",
    "            shortest = len(second_sequence(s)[0])\n",
    "            candidates = [s]\n",
    "        elif len(second_sequence(s)[0]) == shortest:\n",
    "            candidates.append(s)\n",
    "    print(candidates, shortest)\n",
    "    print('---')\n"
   ]
  },
  {
   "cell_type": "code",
   "execution_count": 90,
   "metadata": {},
   "outputs": [],
   "source": [
    "unique_dir = dict()\n",
    "\n",
    "for (start, end), seq in filtered_dir.items():\n",
    "    if len(seq) == 1:\n",
    "        unique_dir[(start, end)] = seq[0]"
   ]
  },
  {
   "cell_type": "code",
   "execution_count": 91,
   "metadata": {},
   "outputs": [
    {
     "data": {
      "text/plain": [
       "{((0, 1), (0, 1)): 'A',\n",
       " ((0, 1), (0, 2)): '>A',\n",
       " ((0, 1), (1, 0)): 'v<A',\n",
       " ((0, 1), (1, 1)): 'vA',\n",
       " ((0, 1), (1, 2)): 'v>A',\n",
       " ((0, 2), (0, 1)): '<A',\n",
       " ((0, 2), (0, 2)): 'A',\n",
       " ((0, 2), (1, 0)): 'v<<A',\n",
       " ((0, 2), (1, 1)): '<vA',\n",
       " ((0, 2), (1, 2)): 'vA',\n",
       " ((1, 0), (0, 1)): '>^A',\n",
       " ((1, 0), (0, 2)): '>>^A',\n",
       " ((1, 0), (1, 0)): 'A',\n",
       " ((1, 0), (1, 1)): '>A',\n",
       " ((1, 0), (1, 2)): '>>A',\n",
       " ((1, 1), (0, 1)): '^A',\n",
       " ((1, 1), (0, 2)): '>^A',\n",
       " ((1, 1), (1, 0)): '<A',\n",
       " ((1, 1), (1, 1)): 'A',\n",
       " ((1, 1), (1, 2)): '>A',\n",
       " ((1, 2), (0, 1)): '<^A',\n",
       " ((1, 2), (0, 2)): '^A',\n",
       " ((1, 2), (1, 0)): '<<A',\n",
       " ((1, 2), (1, 1)): '<A',\n",
       " ((1, 2), (1, 2)): 'A'}"
      ]
     },
     "execution_count": 91,
     "metadata": {},
     "output_type": "execute_result"
    }
   ],
   "source": [
    "unique_dir # <<< looks like this still overcounts!"
   ]
  },
  {
   "cell_type": "code",
   "execution_count": 96,
   "metadata": {},
   "outputs": [],
   "source": [
    "char_positions = {'A':(0,2),\n",
    "                  '^':(0,1),\n",
    "                  'X':(0,0),\n",
    "                  'v':(1,1),\n",
    "                  '<':(1,0),\n",
    "                  '>':(1,2)}\n",
    "\n",
    "\n",
    "\n",
    "def sequence(code, start, end):\n",
    "    result = ''\n",
    "\n",
    "    if start == (0,0) or end == (0,0):\n",
    "        #print(\"Invalid start or end\")\n",
    "        return '' \n",
    "\n",
    "    for char in code: # memoize here?\n",
    "        end = char_positions[char]\n",
    "        result += unique_dir[(start, end)]\n",
    "        start = end\n",
    "        \n",
    "    return result\n",
    "\n",
    "\n",
    "big_dir = dict()\n",
    "\n",
    "# Precompute optimal sequences for 10 steps\n",
    "for (start, end), seq in unique_dir.items():\n",
    "    big_dir[(start, end)] = seq\n",
    "\n",
    "    # Memoize? \n",
    "    for _ in range(1):\n",
    "        seq = big_dir[(start, end)] \n",
    "        big_dir[(start, end)] = sequence(seq, start, end)\n",
    "\n",
    "        \n"
   ]
  },
  {
   "cell_type": "code",
   "execution_count": 97,
   "metadata": {},
   "outputs": [],
   "source": [
    "sequences = first_sequence(codes[0])"
   ]
  },
  {
   "cell_type": "code",
   "execution_count": 98,
   "metadata": {},
   "outputs": [],
   "source": [
    "def get_bigdir_sequence(code, init_position = dir_position):\n",
    "    memo = big_dir\n",
    "    # Initialize the current position to the starting position\n",
    "    start = init_position\n",
    "   \n",
    "    # Known paths: \n",
    "    result = ''\n",
    "\n",
    "    # Go character by character in the code\n",
    "    for char in code: \n",
    "        # Find the position of the character on the keypad\n",
    "        end = char_positions[char]\n",
    "        path_stub = memo[(start, end)]\n",
    "        start = end\n",
    "\n",
    "        result = result + path_stub\n",
    "\n",
    "    return result"
   ]
  },
  {
   "cell_type": "code",
   "execution_count": 99,
   "metadata": {},
   "outputs": [
    {
     "data": {
      "text/plain": [
       "180220"
      ]
     },
     "execution_count": 99,
     "metadata": {},
     "output_type": "execute_result"
    }
   ],
   "source": [
    "# Sanity check\n",
    "\n",
    "result = 0 \n",
    "\n",
    "for code in codes: \n",
    "    second_sequences = []\n",
    "\n",
    "    for sequence in first_sequence(code):\n",
    "        #print(sequence)\n",
    "        second_sequences.append(get_bigdir_sequence(sequence))\n",
    "\n",
    "    # compute the complexity \n",
    "    complexity = len(second_sequences[0]) * int(code[:-1])\n",
    "\n",
    "    result += complexity\n",
    "\n",
    "result # 157892 (overcount :/) "
   ]
  },
  {
   "cell_type": "code",
   "execution_count": null,
   "metadata": {},
   "outputs": [],
   "source": []
  }
 ],
 "metadata": {
  "kernelspec": {
   "display_name": "Python 3",
   "language": "python",
   "name": "python3"
  },
  "language_info": {
   "codemirror_mode": {
    "name": "ipython",
    "version": 3
   },
   "file_extension": ".py",
   "mimetype": "text/x-python",
   "name": "python",
   "nbconvert_exporter": "python",
   "pygments_lexer": "ipython3",
   "version": "3.11.6"
  }
 },
 "nbformat": 4,
 "nbformat_minor": 2
}
