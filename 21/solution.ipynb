{
 "cells": [
  {
   "cell_type": "markdown",
   "metadata": {},
   "source": [
    "# 21"
   ]
  },
  {
   "cell_type": "code",
   "execution_count": 247,
   "metadata": {},
   "outputs": [],
   "source": [
    "num_keypad = [['7','8','9'],\n",
    "              ['4','5','6'],\n",
    "              ['1','2','3'],\n",
    "              ['X','0','A']]\n",
    "\n",
    "num_position = (3,2) # row, col \n",
    "\n",
    "dir_keypad = [['X', '^', 'A'],\n",
    "              ['<', 'v', '>']]\n",
    "\n",
    "dir_position = (0,2) # row, col"
   ]
  },
  {
   "cell_type": "code",
   "execution_count": 253,
   "metadata": {},
   "outputs": [],
   "source": [
    "def get_sequences(code, keypad, position):\n",
    "    # Initialize the current position to the starting position\n",
    "    current = position\n",
    "   \n",
    "    # Known paths: \n",
    "    result = ['']\n",
    "\n",
    "    # Go character by character in the code\n",
    "    for char in code: \n",
    "        # Find the position of the character on the keypad\n",
    "        char_position = None\n",
    "\n",
    "        for row in range(len(keypad)):\n",
    "            for col in range(len(keypad[0])):\n",
    "                if keypad[row][col] == char:\n",
    "                    char_position = (row, col)\n",
    "\n",
    "        # Find all paths from the current position to the character \n",
    "        paths = [('', current)] # (path, position)\n",
    "        path_stubs = []\n",
    "\n",
    "        while len(paths) > 0: \n",
    "            new_paths = []\n",
    "            for path, position in paths:\n",
    "                if position[0] < char_position[0]:\n",
    "                    if keypad[position[0]+1][position[1]] != 'X':\n",
    "                        new_paths.append((path+'v', (position[0]+1, position[1])))\n",
    "                elif position[0] > char_position[0]:\n",
    "                    if keypad[position[0]-1][position[1]] != 'X':\n",
    "                        new_paths.append((path+'^', (position[0]-1, position[1])))\n",
    "\n",
    "                if position[1] < char_position[1]:\n",
    "                    if keypad[position[0]][position[1]+1] != 'X':\n",
    "                        new_paths.append((path+'>', (position[0], position[1]+1)))\n",
    "                elif position[1] > char_position[1]:\n",
    "                    if keypad[position[0]][position[1]-1] != 'X':\n",
    "                        new_paths.append((path+'<', (position[0], position[1]-1)))\n",
    "\n",
    "                if position == char_position:\n",
    "                    path = path + 'A'\n",
    "                    path_stubs.append(path)\n",
    "            paths = new_paths\n",
    "\n",
    "        # print(f\"char: {char}\", path_stubs)\n",
    "        # Update the current position \n",
    "        current = char_position\n",
    "\n",
    "        # Add the shortest path to the result\n",
    "        updated_result = []\n",
    "        for path in result: \n",
    "            for stub in path_stubs:\n",
    "                updated_result.append(path + stub)\n",
    "\n",
    "        result = updated_result\n",
    "\n",
    "    return result         "
   ]
  },
  {
   "cell_type": "code",
   "execution_count": null,
   "metadata": {},
   "outputs": [],
   "source": [
    "def first_sequence(code):\n",
    "    return get_sequences(code, num_keypad, num_position)\n",
    "\n",
    "def second_sequence(code):\n",
    "    return get_sequences(code, dir_keypad, dir_position)\n"
   ]
  },
  {
   "cell_type": "markdown",
   "metadata": {},
   "source": [
    "### Solution\n",
    "Oh my, this is not elegant ... "
   ]
  },
  {
   "cell_type": "code",
   "execution_count": 291,
   "metadata": {},
   "outputs": [],
   "source": [
    "codes = []\n",
    "with open(\"input.txt\") as f: \n",
    "    for line in f: \n",
    "        codes.append(line.strip())"
   ]
  },
  {
   "cell_type": "code",
   "execution_count": 292,
   "metadata": {},
   "outputs": [
    {
     "data": {
      "text/plain": [
       "['593A', '508A', '386A', '459A', '246A']"
      ]
     },
     "execution_count": 292,
     "metadata": {},
     "output_type": "execute_result"
    }
   ],
   "source": [
    "codes"
   ]
  },
  {
   "cell_type": "code",
   "execution_count": 294,
   "metadata": {},
   "outputs": [
    {
     "data": {
      "text/plain": [
       "157892"
      ]
     },
     "execution_count": 294,
     "metadata": {},
     "output_type": "execute_result"
    }
   ],
   "source": [
    "result = 0 \n",
    "\n",
    "for code in codes: \n",
    "    second_sequences = []\n",
    "\n",
    "    for sequence in first_sequence(code):\n",
    "        #print(sequence)\n",
    "        second_sequences.extend(second_sequence(sequence))\n",
    "\n",
    "    third_sequences = []\n",
    "    for sequence in second_sequences:\n",
    "        #print(sequence)\n",
    "        third_sequences.extend(second_sequence(sequence))\n",
    "\n",
    "    third_sequences.sort(key=lambda x: len(x))\n",
    "\n",
    "    # compute the complexity \n",
    "    complexity = len(third_sequences[0]) * int(code[:-1])\n",
    "\n",
    "    result += complexity\n",
    "\n",
    "result"
   ]
  },
  {
   "cell_type": "markdown",
   "metadata": {},
   "source": []
  }
 ],
 "metadata": {
  "kernelspec": {
   "display_name": "Python 3",
   "language": "python",
   "name": "python3"
  },
  "language_info": {
   "codemirror_mode": {
    "name": "ipython",
    "version": 3
   },
   "file_extension": ".py",
   "mimetype": "text/x-python",
   "name": "python",
   "nbconvert_exporter": "python",
   "pygments_lexer": "ipython3",
   "version": "3.11.6"
  }
 },
 "nbformat": 4,
 "nbformat_minor": 2
}
