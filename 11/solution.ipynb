{
 "cells": [
  {
   "cell_type": "markdown",
   "metadata": {
    "vscode": {
     "languageId": "plaintext"
    }
   },
   "source": [
    "# 11"
   ]
  },
  {
   "cell_type": "code",
   "execution_count": 37,
   "metadata": {},
   "outputs": [],
   "source": [
    "array = []\n",
    "\n",
    "with open(\"input.txt\") as f:\n",
    "    for line in f:\n",
    "        array.append(line.strip().split())\n",
    "\n",
    "input_list = list(map(int, array[0]))"
   ]
  },
  {
   "cell_type": "code",
   "execution_count": 38,
   "metadata": {},
   "outputs": [
    {
     "data": {
      "text/plain": [
       "[8069, 87014, 98, 809367, 525, 0, 9494914, 5]"
      ]
     },
     "execution_count": 38,
     "metadata": {},
     "output_type": "execute_result"
    }
   ],
   "source": [
    "input_list"
   ]
  },
  {
   "cell_type": "code",
   "execution_count": 39,
   "metadata": {},
   "outputs": [],
   "source": [
    "def iterate(input_list):\n",
    "    new_list = []\n",
    "    for k in input_list:\n",
    "        if k == 0:\n",
    "            new_list.append(1)\n",
    "        elif len(str(k)) % 2 == 0:\n",
    "            left = int(\"\".join(list(str(k))[:len(str(k))//2]))\n",
    "            right = int(\"\".join(list(str(k))[len(str(k))//2:]))\n",
    "            new_list.append(left)\n",
    "            new_list.append(right)\n",
    "        else:\n",
    "            new_list.append(k*2024)\n",
    "\n",
    "    return new_list \n",
    "\n"
   ]
  },
  {
   "cell_type": "code",
   "execution_count": null,
   "metadata": {},
   "outputs": [],
   "source": []
  },
  {
   "cell_type": "code",
   "execution_count": 40,
   "metadata": {},
   "outputs": [
    {
     "ename": "KeyboardInterrupt",
     "evalue": "",
     "output_type": "error",
     "traceback": [
      "\u001b[0;31m---------------------------------------------------------------------------\u001b[0m",
      "\u001b[0;31mKeyboardInterrupt\u001b[0m                         Traceback (most recent call last)",
      "Cell \u001b[0;32mIn[40], line 2\u001b[0m\n\u001b[1;32m      1\u001b[0m \u001b[38;5;28;01mfor\u001b[39;00m _ \u001b[38;5;129;01min\u001b[39;00m \u001b[38;5;28mrange\u001b[39m(\u001b[38;5;241m75\u001b[39m):\n\u001b[0;32m----> 2\u001b[0m     input_list \u001b[38;5;241m=\u001b[39m \u001b[43miterate\u001b[49m\u001b[43m(\u001b[49m\u001b[43minput_list\u001b[49m\u001b[43m)\u001b[49m\n",
      "Cell \u001b[0;32mIn[39], line 8\u001b[0m, in \u001b[0;36miterate\u001b[0;34m(input_list)\u001b[0m\n\u001b[1;32m      6\u001b[0m \u001b[38;5;28;01melif\u001b[39;00m \u001b[38;5;28mlen\u001b[39m(\u001b[38;5;28mstr\u001b[39m(k)) \u001b[38;5;241m%\u001b[39m \u001b[38;5;241m2\u001b[39m \u001b[38;5;241m==\u001b[39m \u001b[38;5;241m0\u001b[39m:\n\u001b[1;32m      7\u001b[0m     left \u001b[38;5;241m=\u001b[39m \u001b[38;5;28mint\u001b[39m(\u001b[38;5;124m\"\u001b[39m\u001b[38;5;124m\"\u001b[39m\u001b[38;5;241m.\u001b[39mjoin(\u001b[38;5;28mlist\u001b[39m(\u001b[38;5;28mstr\u001b[39m(k))[:\u001b[38;5;28mlen\u001b[39m(\u001b[38;5;28mstr\u001b[39m(k))\u001b[38;5;241m/\u001b[39m\u001b[38;5;241m/\u001b[39m\u001b[38;5;241m2\u001b[39m]))\n\u001b[0;32m----> 8\u001b[0m     right \u001b[38;5;241m=\u001b[39m \u001b[38;5;28mint\u001b[39m(\u001b[38;5;124m\"\u001b[39m\u001b[38;5;124m\"\u001b[39m\u001b[38;5;241m.\u001b[39mjoin(\u001b[38;5;28mlist\u001b[39m(\u001b[38;5;28mstr\u001b[39m(k))[\u001b[38;5;28mlen\u001b[39m(\u001b[38;5;28mstr\u001b[39m(k))\u001b[38;5;241m/\u001b[39m\u001b[38;5;241m/\u001b[39m\u001b[38;5;241m2\u001b[39m:]))\n\u001b[1;32m      9\u001b[0m     new_list\u001b[38;5;241m.\u001b[39mappend(left)\n\u001b[1;32m     10\u001b[0m     new_list\u001b[38;5;241m.\u001b[39mappend(right)\n",
      "\u001b[0;31mKeyboardInterrupt\u001b[0m: "
     ]
    }
   ],
   "source": [
    "for _ in range(75):\n",
    "    input_list = iterate(input_list)\n"
   ]
  },
  {
   "cell_type": "code",
   "execution_count": 36,
   "metadata": {},
   "outputs": [
    {
     "data": {
      "text/plain": [
       "183484"
      ]
     },
     "execution_count": 36,
     "metadata": {},
     "output_type": "execute_result"
    }
   ],
   "source": [
    "len(input_list)"
   ]
  },
  {
   "cell_type": "markdown",
   "metadata": {},
   "source": [
    "# 2"
   ]
  },
  {
   "cell_type": "code",
   "execution_count": 195,
   "metadata": {},
   "outputs": [],
   "source": [
    "array = []\n",
    "\n",
    "with open(\"input.txt\") as f:\n",
    "    for line in f:\n",
    "        array.append(line.strip().split())\n",
    "\n",
    "input_list = list(map(int, array[0]))\n",
    "dictionary = dict() \n",
    "\n",
    "for i in input_list:\n",
    "    dictionary[i] = 1 \n",
    "\n",
    "# --------------------------- \n",
    "\n",
    "def iterate_dict(dictionary): \n",
    "    temp_dict = dict()\n",
    "    keys = list(dictionary.keys())\n",
    "\n",
    "    for k in keys:\n",
    "        if dictionary[k] == 0:\n",
    "            continue\n",
    "        \n",
    "        if k == 0:\n",
    "            if 1 not in temp_dict:\n",
    "                temp_dict[1] = dictionary[0]\n",
    "            else: \n",
    "                temp_dict[1] += dictionary[0]\n",
    "            \n",
    "        elif len(str(k)) % 2 == 0:\n",
    "\n",
    "\n",
    "            left = int(\"\".join(list(str(k))[:len(str(k))//2]))\n",
    "            right = int(\"\".join(list(str(k))[len(str(k))//2:]))\n",
    "            \n",
    "            if left not in temp_dict:\n",
    "                temp_dict[left] = dictionary[k]\n",
    "            else:\n",
    "                temp_dict[left] += dictionary[k]\n",
    "\n",
    "            if right not in temp_dict:\n",
    "                temp_dict[right] = dictionary[k]\n",
    "            else:\n",
    "                temp_dict[right] += dictionary[k]\n",
    "\n",
    "        else:\n",
    "\n",
    "            if k*2024 not in temp_dict:\n",
    "                temp_dict[k*2024] = dictionary[k]\n",
    "            else:\n",
    "                temp_dict[k*2024] += dictionary[k]\n",
    "\n",
    "    return temp_dict"
   ]
  },
  {
   "cell_type": "code",
   "execution_count": 196,
   "metadata": {},
   "outputs": [
    {
     "data": {
      "text/plain": [
       "{8069: 1, 87014: 1, 98: 1, 809367: 1, 525: 1, 0: 1, 9494914: 1, 5: 1}"
      ]
     },
     "execution_count": 196,
     "metadata": {},
     "output_type": "execute_result"
    }
   ],
   "source": [
    "dictionary"
   ]
  },
  {
   "cell_type": "code",
   "execution_count": 197,
   "metadata": {},
   "outputs": [
    {
     "data": {
      "text/plain": [
       "218817038947400"
      ]
     },
     "execution_count": 197,
     "metadata": {},
     "output_type": "execute_result"
    }
   ],
   "source": [
    "for _ in range(75):\n",
    "    dictionary = iterate_dict(dictionary)\n",
    "\n",
    "sum(dictionary.values())"
   ]
  },
  {
   "cell_type": "code",
   "execution_count": null,
   "metadata": {},
   "outputs": [],
   "source": [
    "# NOICE!!!"
   ]
  }
 ],
 "metadata": {
  "kernelspec": {
   "display_name": "Python 3",
   "language": "python",
   "name": "python3"
  },
  "language_info": {
   "codemirror_mode": {
    "name": "ipython",
    "version": 3
   },
   "file_extension": ".py",
   "mimetype": "text/x-python",
   "name": "python",
   "nbconvert_exporter": "python",
   "pygments_lexer": "ipython3",
   "version": "3.11.6"
  }
 },
 "nbformat": 4,
 "nbformat_minor": 2
}
