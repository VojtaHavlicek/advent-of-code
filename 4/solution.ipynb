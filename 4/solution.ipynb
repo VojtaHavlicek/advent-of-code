{
 "cells": [
  {
   "cell_type": "markdown",
   "metadata": {},
   "source": [
    "# 4\n",
    "\n",
    "## Solved, but can do this more elegantly? "
   ]
  },
  {
   "cell_type": "code",
   "execution_count": 147,
   "metadata": {},
   "outputs": [
    {
     "name": "stdout",
     "output_type": "stream",
     "text": [
      "140 140\n"
     ]
    }
   ],
   "source": [
    "array = [] \n",
    "\n",
    "with open(\"input.txt\") as file:\n",
    "     for line in file:\n",
    "         array.append(line.strip())\n",
    "\n",
    "array_T = list(map(list, zip(*array)))\n",
    "\n",
    "for i, row in enumerate(array_T):\n",
    "    array_T[i] = \"\".join(row)\n",
    "\n",
    "print(len(array), len(array[0]))"
   ]
  },
  {
   "cell_type": "code",
   "execution_count": 148,
   "metadata": {},
   "outputs": [
    {
     "name": "stdout",
     "output_type": "stream",
     "text": [
      "horizontal: 431\n",
      "vertical: 462\n"
     ]
    }
   ],
   "source": [
    "import re\n",
    "\n",
    "# TODO: count occurences of XMAS and SAMX in the array instead? \n",
    "number = 0\n",
    "\n",
    "horizontal = 0\n",
    "for i in range(len(array)): \n",
    "    horizontal += len(re.findall(\"XMAS\", array[i])) + len(re.findall(\"SAMX\", array[i]))\n",
    "\n",
    "print(f\"horizontal: {horizontal}\")\n",
    "\n",
    "# vertical \n",
    "\n",
    "vertical = 0\n",
    "for i in range(len(array_T)):\n",
    "    vertical += len(re.findall(\"XMAS\", array_T[i])) + len(re.findall(\"SAMX\", array_T[i]))\n",
    "\n",
    "print(f\"vertical: {vertical}\")\n",
    "\n",
    "number += horizontal + vertical\n"
   ]
  },
  {
   "cell_type": "code",
   "execution_count": 149,
   "metadata": {},
   "outputs": [],
   "source": [
    "# Run along the perimeter! \n",
    "\n",
    "# diagonal\n",
    "diagonal = 0\n",
    "N = len(array)\n",
    "\n",
    "\n",
    "# k runs from top left to top right and the diagonal is always from top left to bottom right\n",
    "for k in range(N):\n",
    "    diagonal_string = \"\"\n",
    "    for i in range(N):\n",
    "        if k + i < N:\n",
    "            diagonal_string += array[i][k + i]\n",
    "\n",
    "    # print(diagonal_string)\n",
    "    diagonal += len(re.findall(\"XMAS\", diagonal_string)) + len(re.findall(\"SAMX\", diagonal_string))\n",
    "\n",
    "# k runs from bottom left to top left and the diagonal is always from top left to bottom right\n",
    "for k in range(1, N):\n",
    "    diagonal_string = \"\"\n",
    "    for i in range(N):\n",
    "        if k + i < N:\n",
    "            diagonal_string += array[k+i][i]\n",
    "\n",
    "    # print(diagonal_string)\n",
    "    diagonal += len(re.findall(\"XMAS\", diagonal_string)) + len(re.findall(\"SAMX\", diagonal_string))\n",
    "    \n",
    "# Same for the transposed array\n",
    "\n",
    "    \n",
    "number += diagonal"
   ]
  },
  {
   "cell_type": "code",
   "execution_count": 150,
   "metadata": {},
   "outputs": [],
   "source": [
    "diagonal = 0\n",
    "\n",
    "array_R = [\"\".join(reversed(row)) for row in array]\n",
    "\n",
    "# k runs from top left to top right and the diagonal is always from top left to bottom right\n",
    "for k in range(N):\n",
    "    diagonal_string = \"\"\n",
    "    for i in range(N):\n",
    "        if k + i < N:\n",
    "            diagonal_string += array_R[i][k + i]\n",
    "\n",
    "    #  print(diagonal_string)\n",
    "    diagonal += len(re.findall(\"XMAS\", diagonal_string)) + len(re.findall(\"SAMX\", diagonal_string))\n",
    "\n",
    "# k runs from bottom left to top left and the diagonal is always from top left to bottom right\n",
    "for k in range(1, N):\n",
    "    diagonal_string = \"\"\n",
    "    for i in range(N):\n",
    "        if k + i < N:\n",
    "            diagonal_string += array_R[k+i][i]\n",
    "\n",
    "     #print(diagonal_string)\n",
    "    diagonal += len(re.findall(\"XMAS\", diagonal_string)) + len(re.findall(\"SAMX\", diagonal_string))\n",
    "    \n",
    "# Same for the transposed array\n",
    "\n",
    "number += diagonal"
   ]
  },
  {
   "cell_type": "code",
   "execution_count": 151,
   "metadata": {},
   "outputs": [
    {
     "data": {
      "text/plain": [
       "2654"
      ]
     },
     "execution_count": 151,
     "metadata": {},
     "output_type": "execute_result"
    }
   ],
   "source": [
    "number"
   ]
  },
  {
   "cell_type": "markdown",
   "metadata": {},
   "source": [
    "## MAS \n",
    "\n",
    "Uff, that's also not the most elegant solution! "
   ]
  },
  {
   "cell_type": "code",
   "execution_count": 152,
   "metadata": {},
   "outputs": [
    {
     "name": "stdout",
     "output_type": "stream",
     "text": [
      "140 140\n"
     ]
    }
   ],
   "source": [
    "array = [] \n",
    "\n",
    "with open(\"input.txt\") as file:\n",
    "     for line in file:\n",
    "         array.append(line.strip())\n",
    "\n",
    "array_T = list(map(list, zip(*array)))\n",
    "\n",
    "for i, row in enumerate(array_T):\n",
    "    array_T[i] = \"\".join(row)\n",
    "\n",
    "print(len(array), len(array[0]))"
   ]
  },
  {
   "cell_type": "code",
   "execution_count": 153,
   "metadata": {},
   "outputs": [
    {
     "data": {
      "text/plain": [
       "1990"
      ]
     },
     "execution_count": 153,
     "metadata": {},
     "output_type": "execute_result"
    }
   ],
   "source": [
    "number = 0\n",
    "for row in range(1,len(array)-1):\n",
    "    for col in range(1,len(array[0])-1):\n",
    "        if array[row][col] == \"A\":\n",
    "            A = (array[row-1][col-1] == \"M\" and array[row+1][col+1] == \"S\" or array[row-1][col-1] == \"S\" and array[row+1][col+1] == \"M\")\n",
    "            B = (array[row-1][col+1] == \"M\" and array[row+1][col-1] == \"S\" or array[row-1][col+1] == \"S\" and array[row+1][col-1] == \"M\")\n",
    "            if A and B: \n",
    "                number += 1\n",
    "                \n",
    "number\n"
   ]
  },
  {
   "cell_type": "code",
   "execution_count": null,
   "metadata": {},
   "outputs": [],
   "source": []
  },
  {
   "cell_type": "code",
   "execution_count": null,
   "metadata": {},
   "outputs": [],
   "source": []
  },
  {
   "cell_type": "code",
   "execution_count": null,
   "metadata": {},
   "outputs": [],
   "source": []
  },
  {
   "cell_type": "code",
   "execution_count": null,
   "metadata": {},
   "outputs": [],
   "source": []
  },
  {
   "cell_type": "code",
   "execution_count": null,
   "metadata": {},
   "outputs": [],
   "source": []
  }
 ],
 "metadata": {
  "kernelspec": {
   "display_name": "Python 3",
   "language": "python",
   "name": "python3"
  },
  "language_info": {
   "codemirror_mode": {
    "name": "ipython",
    "version": 3
   },
   "file_extension": ".py",
   "mimetype": "text/x-python",
   "name": "python",
   "nbconvert_exporter": "python",
   "pygments_lexer": "ipython3",
   "version": "3.11.6"
  }
 },
 "nbformat": 4,
 "nbformat_minor": 2
}
