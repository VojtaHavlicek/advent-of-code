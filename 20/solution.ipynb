{
 "cells": [
  {
   "cell_type": "markdown",
   "metadata": {},
   "source": [
    "# 20"
   ]
  },
  {
   "cell_type": "code",
   "execution_count": 205,
   "metadata": {},
   "outputs": [
    {
     "name": "stdout",
     "output_type": "stream",
     "text": [
      "Start: (3, 1)\n",
      "End: (7, 5)\n"
     ]
    }
   ],
   "source": [
    "array = []\n",
    "start = None\n",
    "end = None \n",
    "\n",
    "with open(\"test_input.txt\", \"r\") as f:\n",
    "    for row, line in enumerate(f): \n",
    "        row_content = list(line.strip())\n",
    "        array.append(row_content)\n",
    "\n",
    "        for col, char in enumerate(row_content):\n",
    "            if char == \"S\":\n",
    "                print(f\"Start: ({row}, {col})\")\n",
    "                start = (row, col)\n",
    "            if char == \"E\":\n",
    "                print(f\"End: ({row}, {col})\")\n",
    "                end = (row, col)\n",
    "\n",
    "\n",
    "        \n"
   ]
  },
  {
   "cell_type": "code",
   "execution_count": 206,
   "metadata": {},
   "outputs": [],
   "source": [
    "from heapq import heappush, heappop\n",
    "\n",
    "# Run Dijkstra from both sides?  \n",
    "\n",
    "def dijkstra(array, start, end, steps = -1): \n",
    "    # Use heap for this as (score, node) pairs. \n",
    "    start = start\n",
    "    current = [(0, start)] \n",
    "\n",
    "    MAX_DISTANCE = len(array) * len(array[0]) + 1\n",
    "\n",
    "    # Store the distances here. \n",
    "    distances = [[MAX_DISTANCE for _ in range(len(array[0]))] for _ in range(len(array))]\n",
    "    distances[start[0]][start[1]] = 0\n",
    "\n",
    "    # Dijsktras algorithm.\n",
    "    while len(current) > 0 and steps != 0: \n",
    "        distance, node = heappop(current)\n",
    "\n",
    "        #if node == end:\n",
    "        #    print(f\"Found end in {distance} steps\")\n",
    "        #    break # BREAK EARLY\n",
    "\n",
    "\n",
    "        # Insert new neighbor\n",
    "        neighbors = [(node[0] + 1, node[1]), \n",
    "                    (node[0] - 1, node[1]), \n",
    "                    (node[0], node[1] + 1), \n",
    "                    (node[0], node[1] - 1)] # R -> rotat\n",
    "        \n",
    "        for neighbor in neighbors:\n",
    "\n",
    "            # Out of bounds\n",
    "            if neighbor[0] < 0 or neighbor[0] >= len(array) or neighbor[1] < 0 or neighbor[1] >= len(array[0]):\n",
    "                continue\n",
    "\n",
    "            # Wall\n",
    "            if array[neighbor[0]][neighbor[1]] == \"#\":\n",
    "                continue\n",
    "\n",
    "            cost = 1\n",
    "        \n",
    "            # Add new path\n",
    "            if distance + cost < distances[neighbor[0]][neighbor[1]]:\n",
    "                distances[neighbor[0]][neighbor[1]] = distance + cost\n",
    "                heappush(current, (distance + cost, neighbor))\n",
    "\n",
    "        # Limit execution\n",
    "        if steps != -1: \n",
    "            steps -= 1\n",
    "\n",
    "    # for printing\n",
    "    for row in range(len(array)):\n",
    "        for col in range(len(array[0])):\n",
    "            if distances[row][col] == MAX_DISTANCE:\n",
    "                distances[row][col] = -1\n",
    "    return distances"
   ]
  },
  {
   "cell_type": "code",
   "execution_count": 207,
   "metadata": {},
   "outputs": [],
   "source": [
    "distances = dijkstra(array, start, end, -1)   "
   ]
  },
  {
   "cell_type": "code",
   "execution_count": 208,
   "metadata": {},
   "outputs": [
    {
     "data": {
      "text/plain": [
       "(-0.5, 14.5, 14.5, -0.5)"
      ]
     },
     "execution_count": 208,
     "metadata": {},
     "output_type": "execute_result"
    },
    {
     "data": {
      "image/png": "[encoded data removed]",
      "text/plain": [
       "<Figure size 640x480 with 1 Axes>"
      ]
     },
     "metadata": {},
     "output_type": "display_data"
    }
   ],
   "source": [
    "import matplotlib.pyplot as plt\n",
    "\n",
    "plt.imshow(distances)\n",
    "plt.axis(\"off\")"
   ]
  },
  {
   "cell_type": "code",
   "execution_count": 209,
   "metadata": {},
   "outputs": [],
   "source": [
    "from copy import deepcopy\n",
    "\n",
    "cheat_dist = []\n",
    "\n",
    "for row in range(len(array)):\n",
    "    line = []\n",
    "    for col in range(len(array[0])):\n",
    "       \n",
    "        if array[row][col] == \"#\":\n",
    "            line.append(1)\n",
    "        else:\n",
    "            line.append(0)\n",
    "\n",
    "    cheat_dist.append(line)"
   ]
  },
  {
   "cell_type": "code",
   "execution_count": 350,
   "metadata": {},
   "outputs": [],
   "source": [
    "distance_to_end = distances[end[0]][end[1]]\n",
    "\n",
    "cheats = dict() \n",
    "\n",
    "for row in range(len(distances)):\n",
    "    for col in range(len(distances)):\n",
    "        # vertical_cheat\n",
    "        if row + 2 < len(distances):\n",
    "            if distances[row][col] >= 0 and distances[row+1][col] == -1 and distances[row+2][col] >= 0:\n",
    "                savings = abs(distances[row][col] - distances[row+2][col]) - 2\n",
    "\n",
    "                # does it really help? \n",
    "\n",
    "                if max(distances[row][col], distances[row+2][col]) < distance_to_end + savings:\n",
    "                    if savings in cheats:\n",
    "                        cheats[savings] += 1\n",
    "                    else:\n",
    "                        cheats[savings] = 1\n",
    "\n",
    "                    cheat_dist[row][col] = 0\n",
    "                    cheat_dist[row+1][col] = 0.5\n",
    "                    cheat_dist[row+2][col] = 0\n",
    "\n",
    "\n",
    "        # horizontal_cheat\n",
    "        if col + 2 < len(distances[0]):\n",
    "            if distances[row][col] >= 0 and distances[row][col+1] == -1 and distances[row][col+2] >= 0:\n",
    "                savings = abs(distances[row][col] - distances[row][col+2]) - 2\n",
    "\n",
    "                if max(distances[row][col], distances[row][col+2]) < distance_to_end + savings:\n",
    "                    if savings in cheats:\n",
    "                        cheats[savings] += 1\n",
    "                    else:\n",
    "                        cheats[savings] = 1\n",
    "\n",
    "                    cheat_dist[row][col] = 0\n",
    "                    cheat_dist[row][col+1] = 0.5\n",
    "                    cheat_dist[row][col+2] = 0\n",
    "\n",
    "\n"
   ]
  },
  {
   "cell_type": "code",
   "execution_count": 351,
   "metadata": {},
   "outputs": [
    {
     "data": {
      "text/plain": [
       "(-0.5, 14.5, 14.5, -0.5)"
      ]
     },
     "execution_count": 351,
     "metadata": {},
     "output_type": "execute_result"
    },
    {
     "data": {
      "image/png": "[encoded data removed]",
      "text/plain": [
       "<Figure size 640x480 with 1 Axes>"
      ]
     },
     "metadata": {},
     "output_type": "display_data"
    }
   ],
   "source": [
    "# Cheating plan :D \n",
    "plt.imshow(cheat_dist, cmap=\"viridis\")\n",
    "plt.axis(\"off\")"
   ]
  },
  {
   "cell_type": "code",
   "execution_count": 352,
   "metadata": {},
   "outputs": [
    {
     "data": {
      "text/plain": [
       "0"
      ]
     },
     "execution_count": 352,
     "metadata": {},
     "output_type": "execute_result"
    }
   ],
   "source": [
    "result = 0 # number of cheats that save at least 100.\n",
    "\n",
    "for savings, number_of_cheats in cheats.items():\n",
    "    if savings >= 100:\n",
    "        result += number_of_cheats\n",
    "\n",
    "result"
   ]
  },
  {
   "cell_type": "markdown",
   "metadata": {},
   "source": [
    "# Part 2 "
   ]
  },
  {
   "cell_type": "code",
   "execution_count": 353,
   "metadata": {},
   "outputs": [
    {
     "name": "stdout",
     "output_type": "stream",
     "text": [
      "Start: (3, 1)\n",
      "End: (7, 5)\n"
     ]
    }
   ],
   "source": [
    "array = []\n",
    "start = None\n",
    "end = None \n",
    "\n",
    "with open(\"test_input.txt\", \"r\") as f:\n",
    "    for row, line in enumerate(f): \n",
    "        row_content = list(line.strip())\n",
    "        array.append(row_content)\n",
    "\n",
    "        for col, char in enumerate(row_content):\n",
    "            if char == \"S\":\n",
    "                print(f\"Start: ({row}, {col})\")\n",
    "                start = (row, col)\n",
    "            if char == \"E\":\n",
    "                print(f\"End: ({row}, {col})\")\n",
    "                end = (row, col)\n"
   ]
  },
  {
   "cell_type": "code",
   "execution_count": 354,
   "metadata": {},
   "outputs": [],
   "source": [
    "distances = dijkstra(array, start, end, -1)"
   ]
  },
  {
   "cell_type": "code",
   "execution_count": 355,
   "metadata": {},
   "outputs": [
    {
     "data": {
      "text/plain": [
       "(-0.5, 14.5, 14.5, -0.5)"
      ]
     },
     "execution_count": 355,
     "metadata": {},
     "output_type": "execute_result"
    },
    {
     "data": {
      "image/png": "[encoded data removed]",
      "text/plain": [
       "<Figure size 640x480 with 1 Axes>"
      ]
     },
     "metadata": {},
     "output_type": "display_data"
    }
   ],
   "source": [
    "import numpy as np\n",
    "import matplotlib.pyplot as plt\n",
    "\n",
    "plt.imshow(np.array(distances))\n",
    "plt.axis(\"off\")"
   ]
  },
  {
   "cell_type": "code",
   "execution_count": 356,
   "metadata": {},
   "outputs": [
    {
     "data": {
      "text/plain": [
       "[[-1, -1, -1, -1, -1, -1, -1, -1, -1, -1, -1, -1, -1, -1, -1],\n",
       " [-1, 2, 3, 4, -1, 10, 11, 12, -1, 26, 27, 28, 29, 30, -1],\n",
       " [-1, 1, -1, 5, -1, 9, -1, 13, -1, 25, -1, -1, -1, 31, -1],\n",
       " [-1, 0, -1, 6, 7, 8, -1, 14, -1, 24, -1, 34, 33, 32, -1],\n",
       " [-1, -1, -1, -1, -1, -1, -1, 15, -1, 23, -1, 35, -1, -1, -1],\n",
       " [-1, -1, -1, -1, -1, -1, -1, 16, -1, 22, -1, 36, 37, 38, -1],\n",
       " [-1, -1, -1, -1, -1, -1, -1, 17, -1, 21, -1, -1, -1, 39, -1],\n",
       " [-1, -1, -1, 82, 83, 84, -1, 18, 19, 20, -1, 42, 41, 40, -1],\n",
       " [-1, -1, -1, 81, -1, -1, -1, -1, -1, -1, -1, 43, -1, -1, -1],\n",
       " [-1, 78, 79, 80, -1, -1, -1, 60, 59, 58, -1, 44, 45, 46, -1],\n",
       " [-1, 77, -1, -1, -1, -1, -1, 61, -1, 57, -1, -1, -1, 47, -1],\n",
       " [-1, 76, -1, 70, 69, 68, -1, 62, -1, 56, -1, 50, 49, 48, -1],\n",
       " [-1, 75, -1, 71, -1, 67, -1, 63, -1, 55, -1, 51, -1, -1, -1],\n",
       " [-1, 74, 73, 72, -1, 66, 65, 64, -1, 54, 53, 52, -1, -1, -1],\n",
       " [-1, -1, -1, -1, -1, -1, -1, -1, -1, -1, -1, -1, -1, -1, -1]]"
      ]
     },
     "execution_count": 356,
     "metadata": {},
     "output_type": "execute_result"
    }
   ],
   "source": [
    "distances"
   ]
  },
  {
   "cell_type": "code",
   "execution_count": 357,
   "metadata": {},
   "outputs": [
    {
     "data": {
      "text/plain": [
       "(-0.5, 14.5, 14.5, -0.5)"
      ]
     },
     "execution_count": 357,
     "metadata": {},
     "output_type": "execute_result"
    },
    {
     "data": {
      "image/png": "[encoded data removed]",
      "text/plain": [
       "<Figure size 640x480 with 1 Axes>"
      ]
     },
     "metadata": {},
     "output_type": "display_data"
    }
   ],
   "source": [
    "from copy import deepcopy\n",
    "\n",
    "cheat_dist = []\n",
    "\n",
    "for row in range(len(array)):\n",
    "    line = []\n",
    "    for col in range(len(array[0])):\n",
    "       \n",
    "        if array[row][col] == \"#\":\n",
    "            line.append(1)\n",
    "        else:\n",
    "            line.append(0)\n",
    "\n",
    "    cheat_dist.append(line)\n",
    "\n",
    "plt.imshow(cheat_dist)\n",
    "plt.axis(\"off\")"
   ]
  },
  {
   "cell_type": "code",
   "execution_count": 348,
   "metadata": {},
   "outputs": [],
   "source": [
    "distance_to_end = distances[end[0]][end[1]]\n",
    "cheats = dict() \n",
    "radius = 2\n",
    "\n",
    "for row in range(len(distances)):\n",
    "    for col in range(len(distances)):\n",
    "        \n",
    "        for r in range(-radius, radius): \n",
    "            for c in range(-radius + r, radius - r):\n",
    "                if abs(r) + abs(c) <= radius:\n",
    "                    if 0 <= row + r < len(distances) and 0 <= col + c < len(distances[0]):\n",
    "                        if distances[row][col] >= 0 and distances[row+r][col+c] >= 0:\n",
    "                            savings = distances[row][col] - distances[row+r][col+c] - abs(r) - abs(c)\n",
    "\n",
    "                            if savings > 0:\n",
    "                                cheats[savings] = cheats.get(savings, 0) + 1\n"
   ]
  },
  {
   "cell_type": "code",
   "execution_count": null,
   "metadata": {},
   "outputs": [
    {
     "data": {
      "text/plain": [
       "{4: 9, 12: 2, 2: 9, 10: 2, 8: 2, 6: 1, 20: 1, 40: 1, 38: 1, 36: 1}"
      ]
     },
     "execution_count": 349,
     "metadata": {},
     "output_type": "execute_result"
    }
   ],
   "source": [
    "cheats # weird "
   ]
  },
  {
   "cell_type": "code",
   "execution_count": 340,
   "metadata": {},
   "outputs": [
    {
     "data": {
      "text/plain": [
       "0"
      ]
     },
     "execution_count": 340,
     "metadata": {},
     "output_type": "execute_result"
    }
   ],
   "source": [
    "result = 0\n",
    "\n",
    "for saving, number in cheats.items():\n",
    "    if saving >= 50:\n",
    "       result += number\n",
    "\n",
    "result"
   ]
  },
  {
   "cell_type": "markdown",
   "metadata": {},
   "source": [
    "Wrong: \n",
    "\n",
    "959990 (too low)\n",
    "958438 (too low)"
   ]
  },
  {
   "cell_type": "code",
   "execution_count": 131,
   "metadata": {},
   "outputs": [],
   "source": [
    "for savings, number in cheats.items():\n",
    "    if savings >= 50: \n",
    "        print(f\"Savings: {savings} Number: {number}\")\n"
   ]
  },
  {
   "cell_type": "code",
   "execution_count": null,
   "metadata": {},
   "outputs": [
    {
     "data": {
      "text/plain": [
       "<matplotlib.image.AxesImage at 0x11c589590>"
      ]
     },
     "execution_count": 289,
     "metadata": {},
     "output_type": "execute_result"
    },
    {
     "data": {
      "image/png": "[encoded data removed]",
      "text/plain": [
       "<Figure size 640x480 with 1 Axes>"
      ]
     },
     "metadata": {},
     "output_type": "display_data"
    }
   ],
   "source": [
    "radius = 10\n",
    "\n",
    "test = np.zeros((2*radius+1,2*radius+1))\n",
    "\n",
    "for r in range(-radius,radius): \n",
    "    for c in range(-radius+r, radius-r):\n",
    "        \n",
    "        if abs(r) + abs(c) <= radius:\n",
    "            test[r+radius][c+radius] = 1\n",
    "\n",
    "            \n",
    "\n",
    "plt.imshow(test)"
   ]
  },
  {
   "cell_type": "code",
   "execution_count": null,
   "metadata": {},
   "outputs": [],
   "source": []
  }
 ],
 "metadata": {
  "kernelspec": {
   "display_name": "Python 3",
   "language": "python",
   "name": "python3"
  },
  "language_info": {
   "codemirror_mode": {
    "name": "ipython",
    "version": 3
   },
   "file_extension": ".py",
   "mimetype": "text/x-python",
   "name": "python",
   "nbconvert_exporter": "python",
   "pygments_lexer": "ipython3",
   "version": "3.11.6"
  }
 },
 "nbformat": 4,
 "nbformat_minor": 2
}
