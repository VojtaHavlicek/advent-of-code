{
 "cells": [
  {
   "cell_type": "markdown",
   "metadata": {},
   "source": [
    "# 23 "
   ]
  },
  {
   "cell_type": "code",
   "execution_count": 95,
   "metadata": {},
   "outputs": [],
   "source": [
    "edges = []\n",
    "\n",
    "with open(\"input.txt\", \"r\") as file: \n",
    "    for line in file: \n",
    "        edges.append(tuple(line.strip().split('-')))\n"
   ]
  },
  {
   "cell_type": "code",
   "execution_count": 96,
   "metadata": {},
   "outputs": [],
   "source": [
    "adjacency = {}\n",
    "\n",
    "for edge in edges:\n",
    "    if edge[0] not in adjacency:\n",
    "        adjacency[edge[0]] = []\n",
    "    adjacency[edge[0]].append(edge[1])\n",
    "    if edge[1] not in adjacency:\n",
    "        adjacency[edge[1]] = []\n",
    "    adjacency[edge[1]].append(edge[0])"
   ]
  },
  {
   "cell_type": "code",
   "execution_count": 97,
   "metadata": {},
   "outputs": [],
   "source": [
    "def get_num_triangles(key):\n",
    "    neighbors = adjacency[key]\n",
    "    for _ in range(2):\n",
    "        next_neighbors = []\n",
    "        for neighbor in neighbors:\n",
    "            next_neighbors += adjacency[neighbor]\n",
    "        neighbors = next_neighbors\n",
    "\n",
    "    return neighbors.count(key)//2\n",
    "\n",
    "\n",
    "def get_num_triangles_with_at_least_one_t(keys):\n",
    "\n",
    "    triangles = set()\n",
    "\n",
    "    for key in keys:\n",
    "        first = [(key, neighbor) for neighbor in adjacency[key]]\n",
    "\n",
    "    \n",
    "        for (key, neighbor) in first: \n",
    "            for node in adjacency[neighbor] : \n",
    "                if node != key: \n",
    "                    if key in adjacency[node]: \n",
    "                        weight = ('t' == key[0]) + ('t' == neighbor[0]) + ('t' == node[0])\n",
    "                        if weight > 0:\n",
    "                            triangles.add(tuple(sorted([key, neighbor, node])))\n",
    "\n",
    "        \n",
    "\n",
    "\n",
    "    return triangles\n",
    "    \n",
    "len(get_num_triangles_with_at_least_one_t(adjacency.keys()))"
   ]
  },
  {
   "cell_type": "markdown",
   "metadata": {},
   "source": [
    "# Part 2\n"
   ]
  },
  {
   "cell_type": "code",
   "execution_count": 260,
   "metadata": {},
   "outputs": [],
   "source": [
    "edges = []\n",
    "\n",
    "with open(\"input.txt\", \"r\") as file: \n",
    "    for line in file: \n",
    "        edges.append(tuple(line.strip().split('-')))\n",
    "\n",
    "\n",
    "adjacency = {}\n",
    "\n",
    "for edge in edges:\n",
    "    if edge[0] not in adjacency:\n",
    "        adjacency[edge[0]] = []\n",
    "    adjacency[edge[0]].append(edge[1])\n",
    "    if edge[1] not in adjacency:\n",
    "        adjacency[edge[1]] = []\n",
    "    adjacency[edge[1]].append(edge[0])\n"
   ]
  },
  {
   "cell_type": "code",
   "execution_count": 261,
   "metadata": {},
   "outputs": [],
   "source": [
    "vertices = list(adjacency.keys())\n",
    "cliques = set([tuple([vertex]) for vertex in vertices]) # Store cliques as a list of vertices, neigbors outside of the clique"
   ]
  },
  {
   "cell_type": "code",
   "execution_count": 262,
   "metadata": {},
   "outputs": [],
   "source": [
    "longest_clique = ()\n",
    "\n",
    "while len(cliques) > 0:\n",
    "\n",
    "    clique = cliques.pop()\n",
    "\n",
    "    for vertex, neighbors in adjacency.items(): \n",
    "        if vertex in clique:\n",
    "            continue\n",
    "\n",
    "        if all([neighbor in neighbors for neighbor in clique]):\n",
    "            clique = clique + tuple([vertex])\n",
    "            cliques.add(clique)\n",
    "            if len(clique) > len(longest_clique):\n",
    "                longest_clique = clique"
   ]
  },
  {
   "cell_type": "code",
   "execution_count": 263,
   "metadata": {},
   "outputs": [
    {
     "data": {
      "text/plain": [
       "('zm', 'po', 'sy', 'uv', 'uh', 'bz', 'cs', 'oz', 'vw', 'fx', 'ms', 'zj', 'xu')"
      ]
     },
     "execution_count": 263,
     "metadata": {},
     "output_type": "execute_result"
    }
   ],
   "source": [
    "longest_clique\n",
    "\",\".join(sorted(list(longest_clique)))"
   ]
  },
  {
   "cell_type": "markdown",
   "metadata": {},
   "source": [
    "^ the above solution works, but is pretty slow. \n",
    "Maybe look for improvements? \n",
    "\n",
    "**Idea:** Found maximal cliques, pick the largest? Grow from clusters? "
   ]
  },
  {
   "cell_type": "markdown",
   "metadata": {},
   "source": []
  }
 ],
 "metadata": {
  "kernelspec": {
   "display_name": "Python 3",
   "language": "python",
   "name": "python3"
  },
  "language_info": {
   "codemirror_mode": {
    "name": "ipython",
    "version": 3
   },
   "file_extension": ".py",
   "mimetype": "text/x-python",
   "name": "python",
   "nbconvert_exporter": "python",
   "pygments_lexer": "ipython3",
   "version": "3.11.6"
  }
 },
 "nbformat": 4,
 "nbformat_minor": 2
}
